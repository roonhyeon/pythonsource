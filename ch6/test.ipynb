{
 "cells": [
  {
   "cell_type": "code",
   "execution_count": 1,
   "metadata": {},
   "outputs": [
    {
     "name": "stdout",
     "output_type": "stream",
     "text": [
      "안녕하세요.\n"
     ]
    }
   ],
   "source": [
    "print(\"안녕하세요.\")"
   ]
  },
  {
   "cell_type": "code",
   "execution_count": 2,
   "metadata": {},
   "outputs": [
    {
     "ename": "NameError",
     "evalue": "name 'c' is not defined",
     "output_type": "error",
     "traceback": [
      "\u001b[1;31m---------------------------------------------------------------------------\u001b[0m",
      "\u001b[1;31mNameError\u001b[0m                                 Traceback (most recent call last)",
      "Cell \u001b[1;32mIn[2], line 2\u001b[0m\n\u001b[0;32m      1\u001b[0m a,b\u001b[39m=\u001b[39m\u001b[39m10\u001b[39m,\u001b[39m15\u001b[39m\n\u001b[1;32m----> 2\u001b[0m \u001b[39mprint\u001b[39m(c)\n",
      "\u001b[1;31mNameError\u001b[0m: name 'c' is not defined"
     ]
    }
   ],
   "source": [
    "a,b=10,15\n",
    "print(c)"
   ]
  },
  {
   "cell_type": "code",
   "execution_count": 3,
   "metadata": {},
   "outputs": [
    {
     "ename": "ZeroDivisionError",
     "evalue": "division by zero",
     "output_type": "error",
     "traceback": [
      "\u001b[1;31m---------------------------------------------------------------------------\u001b[0m",
      "\u001b[1;31mZeroDivisionError\u001b[0m                         Traceback (most recent call last)",
      "Cell \u001b[1;32mIn[3], line 1\u001b[0m\n\u001b[1;32m----> 1\u001b[0m \u001b[39m10\u001b[39;49m\u001b[39m/\u001b[39;49m\u001b[39m0\u001b[39;49m\n",
      "\u001b[1;31mZeroDivisionError\u001b[0m: division by zero"
     ]
    }
   ],
   "source": [
    "10/0"
   ]
  },
  {
   "cell_type": "code",
   "execution_count": 4,
   "metadata": {},
   "outputs": [
    {
     "name": "stdout",
     "output_type": "stream",
     "text": [
      "10\n",
      "20\n"
     ]
    }
   ],
   "source": [
    "x=[10,20,30]\n",
    "print(x[0])\n",
    "print(x[1])\n"
   ]
  },
  {
   "cell_type": "code",
   "execution_count": 5,
   "metadata": {},
   "outputs": [
    {
     "name": "stdout",
     "output_type": "stream",
     "text": [
      "2\n"
     ]
    }
   ],
   "source": [
    "number=int(input(\"숫자 입력\"))\n",
    "print(number)"
   ]
  },
  {
   "attachments": {},
   "cell_type": "markdown",
   "metadata": {},
   "source": [
    "### Markdown은 주석을 다는 곳\n",
    "### 파이썬에서 예외 처리\n",
    "    - try ~ except : try 뒤에는 오류 발생 코드를 넣고, except 뒤에는 예외 발생 시 뭘 할 건지 처리할 코드를 입력\n",
    "    - try ~ except 오류명:\n",
    "    - try ~ except 오류명 ~ else 오류가 안 날 때 실행할 구문 입력\n",
    "    - try ~ except ~ else ~ finally: finally는 오류 여부와 상관없이 무조건 실행하는 코드\n",
    "    - try ~ finally: try는 단독으로 쓰지 못한다."
   ]
  },
  {
   "cell_type": "code",
   "execution_count": 6,
   "metadata": {},
   "outputs": [
    {
     "name": "stdout",
     "output_type": "stream",
     "text": [
      "10\n",
      "20\n",
      "에러 발생\n"
     ]
    }
   ],
   "source": [
    "try: \n",
    "    x=[10,20,30]\n",
    "    print(x[0])\n",
    "    print(x[1])\n",
    "    print(x[3])\n",
    "except:\n",
    "    print(\"에러 발생\")"
   ]
  },
  {
   "cell_type": "code",
   "execution_count": 1,
   "metadata": {},
   "outputs": [
    {
     "name": "stdout",
     "output_type": "stream",
     "text": [
      "Not Found\n"
     ]
    }
   ],
   "source": [
    "names=[\"Kim\", \"Park\", \"Lee\"]\n",
    "\n",
    "try:\n",
    "    z=\"Let\"\n",
    "    x=names.index(z)\n",
    "    print(\"{} Found it!! in name {}\".format(z, x+1))\n",
    "except ValueError:\n",
    "    print(\"Not Found\")"
   ]
  },
  {
   "cell_type": "code",
   "execution_count": 4,
   "metadata": {},
   "outputs": [
    {
     "name": "stdout",
     "output_type": "stream",
     "text": [
      "Not Found\n"
     ]
    }
   ],
   "source": [
    "names=[\"Kim\", \"Park\", \"Lee\"]\n",
    "\n",
    "try:\n",
    "    z=\"Let\"\n",
    "    x=names.index(z)\n",
    "    print(\"{} Found it!! in name {}\".format(z, x+1))\n",
    "except Exception:\n",
    "    print(\"Not Found\")"
   ]
  },
  {
   "cell_type": "code",
   "execution_count": 5,
   "metadata": {},
   "outputs": [
    {
     "name": "stdout",
     "output_type": "stream",
     "text": [
      "원 반지름 2\n",
      "원 둘레 12.56\n",
      "원 넓이 12.56\n"
     ]
    }
   ],
   "source": [
    "try:\n",
    "    number_input=int(input(\"정수 입력: \"))\n",
    "except:\n",
    "    print(\"입력값을 확인해주세요.\")\n",
    "else:\n",
    "    print(\"원 반지름\", number_input)\n",
    "    print(\"원 둘레\", 2*3.14*number_input)\n",
    "    print(\"원 넓이\", 3.14*number_input*number_input)"
   ]
  },
  {
   "cell_type": "code",
   "execution_count": 6,
   "metadata": {},
   "outputs": [
    {
     "name": "stdout",
     "output_type": "stream",
     "text": [
      "Not Found\n",
      "오류와 상관없이 무조건 실행\n"
     ]
    }
   ],
   "source": [
    "names=[\"Kim\", \"Park\", \"Lee\"]\n",
    "\n",
    "try:\n",
    "    z=\"Let\"\n",
    "    x=names.index(z)\n",
    "    print(\"{} Found it!! in name {}\".format(z, x+1))\n",
    "except Exception:\n",
    "    print(\"Not Found\")\n",
    "else:\n",
    "    print(\"OK!! else!!\")\n",
    "finally:\n",
    "    print(\"오류와 상관없이 무조건 실행\")"
   ]
  },
  {
   "cell_type": "code",
   "execution_count": 8,
   "metadata": {},
   "outputs": [
    {
     "name": "stdout",
     "output_type": "stream",
     "text": [
      "10\n",
      "20\n",
      "무조건 실행\n"
     ]
    },
    {
     "ename": "IndexError",
     "evalue": "list index out of range",
     "output_type": "error",
     "traceback": [
      "\u001b[1;31m---------------------------------------------------------------------------\u001b[0m",
      "\u001b[1;31mIndexError\u001b[0m                                Traceback (most recent call last)",
      "Cell \u001b[1;32mIn[8], line 5\u001b[0m\n\u001b[0;32m      3\u001b[0m     \u001b[39mprint\u001b[39m(x[\u001b[39m0\u001b[39m])\n\u001b[0;32m      4\u001b[0m     \u001b[39mprint\u001b[39m(x[\u001b[39m1\u001b[39m])\n\u001b[1;32m----> 5\u001b[0m     \u001b[39mprint\u001b[39m(x[\u001b[39m3\u001b[39;49m])\n\u001b[0;32m      6\u001b[0m \u001b[39mfinally\u001b[39;00m:\n\u001b[0;32m      7\u001b[0m     \u001b[39mprint\u001b[39m(\u001b[39m\"\u001b[39m\u001b[39m무조건 실행\u001b[39m\u001b[39m\"\u001b[39m)\n",
      "\u001b[1;31mIndexError\u001b[0m: list index out of range"
     ]
    }
   ],
   "source": [
    "try: \n",
    "    x=[10,20,30]\n",
    "    print(x[0])\n",
    "    print(x[1])\n",
    "    print(x[3])\n",
    "finally:\n",
    "    print(\"무조건 실행\")"
   ]
  },
  {
   "cell_type": "code",
   "execution_count": 9,
   "metadata": {},
   "outputs": [
    {
     "name": "stdout",
     "output_type": "stream",
     "text": [
      "입력값을 확인해주세요. invalid literal for int() with base 10: 'e'\n"
     ]
    }
   ],
   "source": [
    "try:\n",
    "    number_input=int(input(\"정수 입력: \"))\n",
    "except Exception as e:\n",
    "    print(\"입력값을 확인해주세요.\", e)\n",
    "else:\n",
    "    print(\"원 반지름\", number_input)\n",
    "    print(\"원 둘레\", 2*3.14*number_input)\n",
    "    print(\"원 넓이\", 3.14*number_input*number_input)"
   ]
  },
  {
   "attachments": {},
   "cell_type": "markdown",
   "metadata": {},
   "source": [
    "#### 강제로 예외 발생시키기\n",
    "- raise"
   ]
  },
  {
   "cell_type": "code",
   "execution_count": 10,
   "metadata": {},
   "outputs": [
    {
     "name": "stdout",
     "output_type": "stream",
     "text": [
      "오류 발생\n"
     ]
    }
   ],
   "source": [
    "try:\n",
    "    a=\"333\"\n",
    "    if a==\"Kim\":\n",
    "        print(\"OK!! 허가\")\n",
    "    else:\n",
    "        raise ValueError\n",
    "except ValueError:\n",
    "    print(\"오류 발생\")\n",
    "except Exception as e:\n",
    "    print(\"다른 오류 발생\", e)\n",
    "else:\n",
    "    print(\"OK!!\")"
   ]
  }
 ],
 "metadata": {
  "kernelspec": {
   "display_name": "pythonsource",
   "language": "python",
   "name": "python3"
  },
  "language_info": {
   "codemirror_mode": {
    "name": "ipython",
    "version": 3
   },
   "file_extension": ".py",
   "mimetype": "text/x-python",
   "name": "python",
   "nbconvert_exporter": "python",
   "pygments_lexer": "ipython3",
   "version": "3.11.4"
  },
  "orig_nbformat": 4
 },
 "nbformat": 4,
 "nbformat_minor": 2
}
