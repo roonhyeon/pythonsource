{
 "cells": [
  {
   "attachments": {},
   "cell_type": "markdown",
   "id": "ecab4e48",
   "metadata": {},
   "source": [
    "### 데이터 프레임 다른 포맷 형식으로 저장"
   ]
  },
  {
   "attachments": {},
   "cell_type": "markdown",
   "id": "d06f2e0c",
   "metadata": {},
   "source": [
    "<img src=\"https://pandas.pydata.org/docs/_images/02_io_readwrite.svg\">"
   ]
  },
  {
   "cell_type": "code",
   "execution_count": 1,
   "id": "5fdb1316",
   "metadata": {},
   "outputs": [],
   "source": [
    "import pandas as pd"
   ]
  },
  {
   "cell_type": "code",
   "execution_count": 2,
   "id": "cd0756df",
   "metadata": {},
   "outputs": [
    {
     "data": {
      "text/html": [
       "<div>\n",
       "<style scoped>\n",
       "    .dataframe tbody tr th:only-of-type {\n",
       "        vertical-align: middle;\n",
       "    }\n",
       "\n",
       "    .dataframe tbody tr th {\n",
       "        vertical-align: top;\n",
       "    }\n",
       "\n",
       "    .dataframe thead th {\n",
       "        text-align: right;\n",
       "    }\n",
       "</style>\n",
       "<table border=\"1\" class=\"dataframe\">\n",
       "  <thead>\n",
       "    <tr style=\"text-align: right;\">\n",
       "      <th></th>\n",
       "      <th>c0</th>\n",
       "      <th>c1</th>\n",
       "    </tr>\n",
       "  </thead>\n",
       "  <tbody>\n",
       "    <tr>\n",
       "      <th>0</th>\n",
       "      <td>1</td>\n",
       "      <td>4</td>\n",
       "    </tr>\n",
       "    <tr>\n",
       "      <th>1</th>\n",
       "      <td>2</td>\n",
       "      <td>5</td>\n",
       "    </tr>\n",
       "    <tr>\n",
       "      <th>2</th>\n",
       "      <td>3</td>\n",
       "      <td>6</td>\n",
       "    </tr>\n",
       "  </tbody>\n",
       "</table>\n",
       "</div>"
      ],
      "text/plain": [
       "   c0  c1\n",
       "0   1   4\n",
       "1   2   5\n",
       "2   3   6"
      ]
     },
     "execution_count": 2,
     "metadata": {},
     "output_type": "execute_result"
    }
   ],
   "source": [
    "dict_data = {\n",
    "    \"c0\":[1,2,3],\n",
    "    \"c1\":[4,5,6]\n",
    "}\n",
    "df = pd.DataFrame(dict_data)\n",
    "df"
   ]
  },
  {
   "cell_type": "code",
   "execution_count": 3,
   "id": "6683ce3f",
   "metadata": {},
   "outputs": [],
   "source": [
    "df.to_csv(\"./df1.csv\",index=False)"
   ]
  },
  {
   "attachments": {},
   "cell_type": "markdown",
   "id": "2130694f",
   "metadata": {},
   "source": [
    "### Youtube 댓글 크롤링 후 데이터 프레임 생성"
   ]
  },
  {
   "cell_type": "code",
   "execution_count": 9,
   "id": "2be7e0f5",
   "metadata": {},
   "outputs": [],
   "source": [
    "from bs4 import BeautifulSoup"
   ]
  },
  {
   "cell_type": "code",
   "execution_count": 12,
   "id": "b3a449a9",
   "metadata": {},
   "outputs": [],
   "source": [
    "from selenium import webdriver\n",
    "from selenium.webdriver.chrome.service import Service\n",
    "from webdriver_manager.chrome import ChromeDriverManager\n",
    "\n",
    "def set_chrome_driver():\n",
    "    chrome_options = webdriver.ChromeOptions()\n",
    "    # chrome_options.add_argument(\"--start-maximized\")\n",
    "    driver = webdriver.Chrome(\n",
    "        service=Service(ChromeDriverManager().install()), options=chrome_options\n",
    "    )\n",
    "    return driver"
   ]
  },
  {
   "cell_type": "code",
   "execution_count": 13,
   "id": "b170eacd",
   "metadata": {},
   "outputs": [],
   "source": [
    "import time\n",
    "\n",
    "driver = set_chrome_driver()\n",
    "driver.get(\"https://www.youtube.com/watch?v=HosW0gulISQ\")\n",
    "\n",
    "time.sleep(3)\n",
    "\n",
    "# 현재 문서 높이\n",
    "prev_height = driver.execute_script(\"return document.documentElement.scrollHeight\")\n",
    "\n",
    "# 스크롤 이동 시간 간격(2초 마다 내려줘)\n",
    "interval = 5\n",
    "\n",
    "while True:\n",
    "    # 스크롤 이동\n",
    "    driver.execute_script(\"window.scrollTo(0,document.documentElement.scrollHeight)\")\n",
    "\n",
    "    # 페이지 로딩 대기\n",
    "    time.sleep(interval)\n",
    "\n",
    "    # 스크롤이 진행된 후 현재 문서 높이\n",
    "    curr_height = driver.execute_script(\"return document.documentElement.scrollHeight\")\n",
    "\n",
    "    if curr_height == prev_height:\n",
    "        break\n",
    "\n",
    "    prev_height = curr_height\n",
    "\n",
    "time.sleep(2)\n",
    "\n",
    "soup = BeautifulSoup(driver.page_source,\"lxml\")"
   ]
  },
  {
   "cell_type": "code",
   "execution_count": 11,
   "id": "8aa216c9",
   "metadata": {},
   "outputs": [
    {
     "data": {
      "text/plain": [
       "'콜드플레이 (Coldplay) - Viva La Vida (Live In São Paulo) 가사번역 by 영화번역가 황석희 - YouTube\\n\\n\\n\\n\\n\\n\\n\\n\\n\\n\\n\\n\\n\\n\\n\\n\\n\\n\\n\\n\\n\\n\\n\\n\\n\\n\\n\\n\\n\\n\\n\\n\\n\\n\\n\\n\\n\\n\\n\\n\\n\\n\\n\\n\\n\\n\\n\\n\\n\\n\\n\\n\\n\\n\\n\\n\\n\\n\\n\\n\\n\\n\\n\\n\\n\\n\\n\\n\\n\\n\\n\\n\\n\\n\\n\\n\\n\\n\\n\\n\\n\\n\\n\\n\\n\\n\\n\\n\\n\\n\\n\\n\\n\\n\\n\\n\\n\\n\\n\\n\\n\\n\\n\\n\\n\\n\\n\\n\\n\\n\\n\\n\\n\\n\\n\\n\\n\\n\\n\\n\\n\\n\\n\\n\\n\\n\\n\\n\\n\\n\\n\\n\\n\\n\\n\\n\\n\\n\\n\\n\\n\\n\\n\\n\\n\\n\\n\\n\\n\\n\\n\\n\\n\\n\\n\\n\\n\\n\\n\\n\\n\\n\\n\\n\\n\\n\\n\\n\\n\\n\\n\\n\\n\\n\\n\\n\\n\\n\\n\\n\\n\\n\\n\\n\\n\\n\\n\\n\\n\\n\\n\\n\\n\\n\\n\\n\\n\\n\\n\\n\\n\\n\\n\\n\\n\\n\\n\\n\\n\\n\\n\\n\\n\\n\\n\\n\\n\\n\\n\\n\\n\\n\\n\\n\\n\\n\\n\\n\\n\\n\\n\\n\\n\\n\\n\\n\\n\\n\\n\\n\\n\\n\\n\\n\\n\\n\\n\\n\\n\\n\\n\\n\\n\\n\\n\\n\\n\\n\\n\\n\\n\\n\\n\\n\\n\\n\\n\\n\\n\\n\\n\\n\\n\\n\\n\\n\\n\\n\\n\\n\\n\\n\\n\\n\\n\\n\\n\\n\\n\\n\\n\\n\\n\\n\\n\\n\\n\\n\\n\\n\\n\\n\\n\\n\\n\\n\\n\\n\\n\\n\\n\\n\\n\\n\\n\\n\\n\\n\\n\\n\\n\\n\\n\\n\\n\\n\\n\\n\\n\\n\\n\\n\\n\\n\\n\\n\\n\\n\\n\\n\\n\\n\\n\\n\\n\\n\\n\\n\\n\\n•\\n\\n\\n\\n\\n\\n\\n\\n\\n\\n\\n\\nNaN / NaN\\n\\n\\n\\n\\n\\n\\n\\n\\n\\n \\n \\n\\n\\n\\n\\n\\n\\n\\n\\n\\n\\n\\n\\n\\n\\n\\n\\n\\n\\n      뒤로\\n    \\n\\n\\n\\n\\n\\n\\n\\n\\n\\n\\n\\n\\n\\n\\n\\n\\n\\n\\n\\n\\n\\n\\n\\n\\n\\n\\n\\n\\n\\n\\n\\n\\n\\n\\n\\n\\n\\n\\n\\n\\n\\n\\n\\n\\n\\n\\n\\n\\n\\n\\n\\n  KR\\n\\n\\n탐색 건너뛰기\\n\\n\\n\\n\\n\\n\\n\\n\\n\\n\\n\\n\\n\\n  검색\\n\\n\\n\\n\\n\\n\\n\\n\\n        검색\\n      \\n\\n\\n  음성으로 검색\\n\\n\\n\\n\\n\\n\\n\\n로그인\\n\\n\\n\\n\\n\\n\\n\\n\\n\\n\\n\\n\\n\\n\\n\\n\\n\\n\\n\\n\\n\\n\\n\\n\\n\\n\\n\\n\\n\\n\\n\\n\\n\\n\\n\\n\\n\\n\\n\\n\\n\\n\\n\\n\\n\\n\\n\\n\\n\\n\\n\\n\\n\\n\\n\\n\\n\\n\\n\\n\\n\\n  KR\\n\\n\\n\\n\\n\\n\\n\\n\\n\\n\\n\\n\\n\\n\\n\\n\\n\\n\\n\\n\\n\\n\\n\\n\\n\\n\\n\\n\\n\\n\\n\\n\\n\\n\\n\\n\\n콜드플레이 (Coldplay) - Viva La Vida (Live In São Paulo) 가사번역 by 영화번역가 황석희나중에 시청하기공유링크 복사정보쇼핑탭하여 음소거 해제잠시 후 재생이 시작되지 않으면 기기를 다시 시작해 보세요.다음 동영상실시간예정취소지금 재생하기워너뮤직코리아 (Warner Music Korea)구독구독중로그아웃되었습니다시청한 동영상이 TV의 시청 기록에 추가되어 TV 맞춤 동영상에 영향을 미칠 수 있습니다. 원하지 않으면 취소하고 컴퓨터에서 YouTube에 로그인하세요.취소확인카메라 전환공유재생목록 포함공유 정보를 가져오는 중에 오류가 발생했습니다. 나중에 다시 시도해 주세요.0:000:00 / 4:07•전체 동영상 보기실시간••스크롤해서 자세히 알아보기\\n\\n\\n\\n\\n\\n\\n\\n\\n\\n\\n\\n\\n\\n\\n\\n\\n\\n콜드플레이 (Coldplay) - Viva La Vida (Live In São Paulo) 가사번역 by 영화번역가 황석희\\n\\n\\n\\n\\n\\n\\n\\n\\n워너뮤직코리아 (Warner Music Korea)\\n\\n\\n  \\n    워너뮤직코리아 (Warner Music Korea)\\n  \\n\\n\\n\\n\\n  인증됨\\n\\n\\n구독자 172만명\\n\\n구독\\n\\n<__slot-el>구독중\\n\\n\\n\\n\\n\\n\\n17만\\n\\n  이 동영상이 마음에 듭니다.\\n\\n\\n\\n\\n  이 동영상이 마음에 들지 않습니다.\\n\\n\\n공유\\n  공유\\n\\n오프라인 저장\\n  오프라인 저장\\n\\n저장\\n  저장\\n\\n\\n\\n\\n\\n\\n\\n\\n\\n\\n조회수 2645만회 4년 전\\n\\n\\n\\n\\n\\n\\n\\n\\n\\n\\n\\n\\n\\n\\n간략히\\n\\n콜드플레이 (Coldplay) - Viva La Vida (Live In São Paulo) 가사번역 by 영화번역가 황석희\\n\\n*음원듣기 https://Coldplay.lnk.to/9ZLVL\\xa0…더보기더보기\\n\\n\\n\\n\\n간략히\\n\\n\\n  조회수 26,451,252회 • 2018. 11. 2.\\n\\n\\n\\n\\n\\n\\n\\n\\n\\n\\n\\n\\n\\n\\n\\n콜드플레이 (Coldplay) - Viva La Vida (Live In São Paulo) 가사번역 by 영화번역가 황석희조회수 26,451,252회조회수 2645만회2018. 11. 2.17만\\n\\n  이 동영상이 마음에 듭니다.\\n\\n\\n\\n\\n  이 동영상이 마음에 들지 않습니다.\\n\\n\\n공유\\n  공유\\n\\n오프라인 저장\\n  오프라인 저장\\n\\n저장\\n  저장\\n\\n\\n\\n\\n\\n\\n\\n\\n\\n\\n\\n\\n\\n워너뮤직코리아 (Warner Music Korea)\\n\\n\\n  \\n    워너뮤직코리아 (Warner Music Korea)\\n  \\n\\n\\n\\n\\n  인증됨\\n\\n\\n구독자 172만명\\n구독\\n\\n<__slot-el>구독중\\n\\n\\n\\n콜드플레이 (Coldplay) - Viva La Vida (Live In São Paulo) 가사번역 by 영화번역가 황석희\\n\\n*음원듣기 https://Coldplay.lnk.to/9ZLVL\\n음악\\n\\n\\n\\n\\n\\n\\n\\n\\n\\n\\n\\n\\n\\n\\n노래\\n\\nViva La Vida (Live In São Paulo) [Korean Subtitled Video]\\n\\n\\n\\n\\n\\n\\n\\n\\n아티스트\\n\\nColdplay\\n\\n\\n\\n\\n\\n\\n\\n\\n라이선스\\n\\n\\n\\n\\n\\n\\nUNIAO BRASILEIRA DE EDITORAS DE MUSICA - UBEM, LatinAutor - UMPG, LatinAutorPerf, ASCAP, UMPG Publishing 및 음악 권리 단체 1개\\n\\n\\n\\nYouTube Premium 가입\\n\\n\\n\\n음악\\n\\n\\n\\n\\n\\n\\n워너뮤직코리아 (Warner Music Korea)\\n\\n      구독자 172만명\\n    \\n\\n\\n\\n동영상\\n\\n\\n정보\\n\\n\\n\\n\\n\\n\\n\\n\\n\\n\\n\\n\\n\\n\\n\\n\\n\\n\\n\\n\\n\\n\\n\\n\\n간략히\\n\\n\\n더보기\\n\\n\\n\\n\\n\\n\\n\\n\\n\\n\\n\\n\\n\\n\\n\\n\\n\\n\\n\\n\\n\\n\\n\\n\\n\\n\\n\\n\\n\\n\\n\\n\\n\\n\\n\\n설명\\n\\n\\n\\n\\n\\n\\n\\n\\n\\n\\n\\n\\n콜드플레이 (Coldplay) - Viva La Vida (Live In São Paulo) 가사번역 by 영화번역가 황석희\\n\\n\\n\\n\\n\\n\\n\\n워너뮤직코리아 (Warner Music Korea)\\n\\n\\n  \\n    워너뮤직코리아 (Warner Music Korea)\\n  \\n\\n\\n\\n\\n\\n\\n\\n\\n17만\\n좋아요 수\\n\\n\\n26,451,252\\n조회수\\n\\n\\n2018년\\n11월 2일\\n\\n\\n\\n\\n콜드플레이 (Coldplay) - Viva La Vida (Live In São Paulo) 가사번역 by 영화번역가 황석희\\n\\n*음원듣기 https://Coldplay.lnk.to/9ZLVL\\n\\n\\n\\n\\n\\n간략히\\n\\n\\n더보기\\n\\n\\n\\n음악\\n\\n\\n\\n\\n\\n\\n\\n\\n\\n\\n\\n\\n\\n\\n노래\\n\\nViva La Vida (Live In São Paulo) [Korean Subtitled Video]\\n\\n\\n\\n\\n\\n\\n\\n\\n아티스트\\n\\nColdplay\\n\\n\\n\\n\\n\\n\\n\\n\\n라이선스\\n\\n\\n\\n\\n\\n\\nUNIAO BRASILEIRA DE EDITORAS DE MUSICA - UBEM, LatinAutor - UMPG, LatinAutorPerf, ASCAP, UMPG Publishing 및 음악 권리 단체 1개\\n\\n\\n\\nYouTube Premium 가입\\n\\n\\n\\n음악\\n\\n\\n\\n\\n\\n\\n워너뮤직코리아 (Warner Music Korea)\\n\\n      구독자 172만명\\n    \\n\\n\\n\\n동영상\\n\\n\\n정보\\n\\n\\n\\n\\n\\n\\n\\n\\n\\n\\n\\n\\n\\n\\n\\n\\n\\n\\n\\n\\n\\n\\n\\n\\n\\n\\n\\n댓글\\n1.1만\\n\\n\\n\\n\\n\\n\\n\\n\\n\\n\\n\\n\\n \\n\\n\\n\\n\\n\\n\\n\\n\\n\\n\\n\\n인기 댓글순\\n                \\n\\n\\n\\n\\n\\n\\n\\n\\n\\n\\n\\n\\n\\n\\n\\n최신순\\n                \\n\\n\\n\\n\\n\\n\\n\\n\\n\\n\\n\\n\\n\\n\\n\\n\\n\\n\\n\\n\\n\\n\\n\\n\\n\\n\\n\\n\\n\\n\\n\\n\\n\\n\\n\\n\\n\\n\\n\\n\\n\\nNaN / NaN\\n\\n\\n\\n\\n\\n\\n\\n\\n  2:42:02\\n지금 재생 중\\n\\n\\n\\n\\n\\n\\n\\n\\n\\n\\n\\n\\n\\n\\n\\n\\n\\n\\n\\n\\n            “난 세상을 정복했었네” | 20년간 우리 곁에 있는 밴드 ‘콜드플레이’ 노래모음 (playlist)\\n          \\n\\n\\n\\n\\n\\n\\n\\n온에잇 𝐎𝐧 𝟖𝐢𝐠𝐡𝐭\\n\\n\\n  \\n    온에잇 𝐎𝐧 𝟖𝐢𝐠𝐡𝐭\\n  \\n\\n\\n\\n\\n  인증됨\\n\\n\\n\\n•\\n\\n\\n\\n\\n•\\n조회수 49만회\\n1년 전\\n\\n\\n\\n\\n\\n\\n\\n\\n\\n\\n\\n\\n\\n\\n\\n\\n\\n\\n\\n\\n\\n\\n  5:13:56\\n지금 재생 중\\n\\n\\n\\n\\n\\n\\n\\n\\n\\n\\n\\n\\n\\n\\n\\n\\n\\n\\n\\n\\n            2021년 인기 팝송 100곡 모두 해석해버리기 | PLAYLIST\\n          \\n\\n\\n\\n\\n\\n\\n\\nH녀\\n\\n\\n  \\n    H녀\\n  \\n\\n\\n\\n\\n\\n\\n•\\n\\n\\n\\n\\n•\\n조회수 708만회\\n2년 전\\n\\n\\n\\n\\n\\n\\n\\n\\n\\n\\n\\n\\n\\n\\n\\n\\n\\n\\n\\n\\n\\n\\n  4:49\\n지금 재생 중\\n\\n\\n\\n\\n\\n\\n\\n\\n\\n\\n\\n\\n\\n\\n\\n\\n\\n\\n\\n\\n            230716 LUKAS GRAHAM - Ordinary Things\\n          \\n\\n\\n\\n\\n\\n\\n\\nㅁㅅ\\n\\n\\n  \\n    ㅁㅅ\\n  \\n\\n\\n\\n\\n\\n\\n•\\n\\n\\n\\n\\n•\\n조회수 12회\\n4시간 전\\n\\n\\n\\n\\n\\n\\n\\n새 동영상\\n\\n\\n\\n\\n\\n\\n\\n\\n\\n\\n\\n\\n\\n\\n  56:32\\n지금 재생 중\\n\\n\\n\\n\\n\\n\\n\\n\\n\\n\\n\\n\\n\\n\\n\\n\\n\\n\\n\\n\\n            [𝐏𝐥𝐚𝐲𝐥𝐢𝐬𝐭] 오아시스부터 콜드플레이까지💙 | 그 시절 아이팟 속 브릿팝, 얼터너티브 록 모음🇬🇧\\n          \\n\\n\\n\\n\\n\\n\\n\\n온에잇 𝐎𝐧 𝟖𝐢𝐠𝐡𝐭\\n\\n\\n  \\n    온에잇 𝐎𝐧 𝟖𝐢𝐠𝐡𝐭\\n  \\n\\n\\n\\n\\n  인증됨\\n\\n\\n\\n•\\n\\n\\n\\n\\n•\\n조회수 226만회\\n2년 전\\n\\n\\n\\n\\n\\n\\n\\n\\n\\n\\n\\n\\n\\n\\n\\n\\n\\n\\n\\n\\n\\n\\n  3:58\\n지금 재생 중\\n\\n\\n\\n\\n\\n\\n\\n\\n\\n\\n\\n\\n\\n\\n\\n\\n\\n\\n\\n\\n            故폴 워커 추모곡 \"See You Again\" Wiz Khalifa (ft. Charlie Puth) 가사 번역 뮤직비디오 (분노의 질주 : 더 세븐 OST)\\n          \\n\\n\\n\\n\\n\\n\\n\\n워너뮤직코리아 (Warner Music Korea)\\n\\n\\n  \\n    워너뮤직코리아 (Warner Music Korea)\\n  \\n\\n\\n\\n\\n  인증됨\\n\\n\\n\\n•\\n\\n\\n\\n\\n•\\n조회수 3044만회\\n8년 전\\n\\n\\n\\n\\n\\n\\n\\n\\n\\n\\n\\n\\n\\n\\n\\n\\n\\n\\n\\n\\n\\n\\n  1:01:08\\n지금 재생 중\\n\\n\\n\\n\\n\\n\\n\\n\\n\\n\\n\\n\\n\\n\\n\\n\\n\\n\\n\\n\\n            이태원 클라쓰 ost 시작 (재편집) 영화관 음향 1시간\\n          \\n\\n\\n\\n\\n\\n\\n\\n영화관 음향\\n\\n\\n  \\n    영화관 음향\\n  \\n\\n\\n\\n\\n\\n\\n•\\n\\n\\n\\n\\n•\\n조회수 2.2천회\\n3주 전\\n\\n\\n\\n\\n\\n\\n\\n\\n\\n\\n\\n\\n\\n\\n\\n\\n\\n\\n\\n\\n\\n\\n  3:25\\n지금 재생 중\\n\\n\\n\\n\\n\\n\\n\\n\\n\\n\\n\\n\\n\\n\\n\\n\\n\\n\\n\\n\\n            크리스토퍼 (Christopher) - BAD 가사 번역 라이브 비디오\\n          \\n\\n\\n\\n\\n\\n\\n\\n워너뮤직코리아 (Warner Music Korea)\\n\\n\\n  \\n    워너뮤직코리아 (Warner Music Korea)\\n  \\n\\n\\n\\n\\n  인증됨\\n\\n\\n\\n•\\n\\n\\n\\n\\n•\\n조회수 3802만회\\n5년 전\\n\\n\\n\\n\\n\\n\\n\\n\\n\\n\\n\\n\\n\\n\\n\\n\\n\\n\\n\\n\\n\\n\\n  5:06\\n지금 재생 중\\n\\n\\n\\n\\n\\n\\n\\n\\n\\n\\n\\n\\n\\n\\n\\n\\n\\n\\n\\n\\n            콜드플레이 (Coldplay) - Fix You (Live In São Paulo) 가사번역 by 영화번역가 황석희\\n          \\n\\n\\n\\n\\n\\n\\n\\n워너뮤직코리아 (Warner Music Korea)\\n\\n\\n  \\n    워너뮤직코리아 (Warner Music Korea)\\n  \\n\\n\\n\\n\\n  인증됨\\n\\n\\n\\n•\\n\\n\\n\\n\\n•\\n조회수 171만회\\n4년 전\\n\\n\\n\\n\\n\\n\\n\\n\\n\\n\\n\\n\\n\\n\\n\\n\\n\\n\\n\\n\\n\\n\\n  21:21\\n지금 재생 중\\n\\n\\n\\n\\n\\n\\n\\n\\n\\n\\n\\n\\n\\n\\n\\n\\n\\n\\n\\n\\n            너의 이름은 ost 모음 :가사,독음,해석\\n          \\n\\n\\n\\n\\n\\n\\n\\n조창현\\n\\n\\n  \\n    조창현\\n  \\n\\n\\n\\n\\n\\n\\n•\\n\\n\\n\\n\\n•\\n조회수 1329만회\\n6년 전\\n\\n\\n\\n\\n\\n\\n\\n\\n\\n\\n\\n\\n\\n\\n\\n\\n\\n\\n\\n\\n\\n\\n\\n\\n\\n지금 재생 중\\n\\n\\n\\n\\n\\n\\n\\n\\n\\n\\n\\n\\n\\n\\n\\n\\n\\n\\n\\n\\n            믹스 - 콜드플레이 (Coldplay) - Viva La Vida (Live In São Paulo) 가사번역 by 영화번역가 황석희\\n          \\n\\n\\n\\n\\n\\n\\n콜드플레이, 찰리 푸스, 앨런 워커 등\\n\\n\\n  \\n    콜드플레이, 찰리 푸스, 앨런 워커 등\\n  \\n\\n\\n\\n\\n\\n\\n•\\n\\n\\n\\n\\n•\\n\\n\\n\\n\\n\\n\\n\\n\\n\\n\\n\\n\\n\\n\\n\\n\\n\\n\\n  2:40:16\\n지금 재생 중\\n\\n\\n\\n\\n\\n\\n\\n\\n\\n\\n\\n\\n\\n\\n\\n\\n\\n\\n\\n\\n            🔥지금 나와도 떡상할 팝송 명곡 50곡 모두 해석해버리기 | PLAYLIST\\n          \\n\\n\\n\\n\\n\\n\\n\\nH녀\\n\\n\\n  \\n    H녀\\n  \\n\\n\\n\\n\\n\\n\\n•\\n\\n\\n\\n\\n•\\n조회수 415만회\\n10개월 전\\n\\n\\n\\n\\n\\n\\n\\n\\n\\n\\n\\n\\n\\n\\n\\n\\n\\n\\n\\n\\n\\n\\n  3:41\\n지금 재생 중\\n\\n\\n\\n\\n\\n\\n\\n\\n\\n\\n\\n\\n\\n\\n\\n\\n\\n\\n\\n\\n            Sting(스팅) - Englishman In New York 가사 한글 해석 번역 자막\\n          \\n\\n\\n\\n\\n\\n\\n\\nppark _\\n\\n\\n  \\n    ppark _\\n  \\n\\n\\n\\n\\n\\n\\n•\\n\\n\\n\\n\\n•\\n조회수 1261만회\\n4년 전\\n\\n\\n\\n\\n\\n\\n\\n\\n\\n\\n\\n\\n\\n\\n\\n\\n\\n\\n\\n\\n\\n\\n  1:25:03\\n지금 재생 중\\n\\n\\n\\n\\n\\n\\n\\n\\n\\n\\n\\n\\n\\n\\n\\n\\n\\n\\n\\n\\n            Coldplay Greatest Hits Full Album 2023|| Coldplay Best Songs Playlist 2023\\n          \\n\\n\\n\\n\\n\\n\\n\\nAlternative Rock Music\\n\\n\\n  \\n    Alternative Rock Music\\n  \\n\\n\\n\\n\\n\\n\\n•\\n\\n\\n\\n\\n•\\n조회수 432만회\\n2개월 전\\n\\n\\n\\n\\n\\n\\n\\n\\n\\n\\n\\n\\n\\n\\n\\n\\n\\n\\n\\n\\n\\n\\n  2:32:06\\n지금 재생 중\\n\\n\\n\\n\\n\\n\\n\\n\\n\\n\\n\\n\\n\\n\\n\\n\\n\\n\\n\\n\\n            인기 팝송 나만 믿어! 감탄사 연발하는 팝송 플레이리스트 50곡 모두 해석해버리기 | PLAYLIST\\n          \\n\\n\\n\\n\\n\\n\\n\\nH녀\\n\\n\\n  \\n    H녀\\n  \\n\\n\\n\\n\\n\\n\\n•\\n\\n\\n\\n\\n•\\n조회수 196만회\\n2년 전\\n\\n\\n\\n\\n\\n\\n\\n\\n\\n\\n\\n\\n\\n\\n\\n\\n\\n\\n\\n\\n\\n\\n  3:49\\n지금 재생 중\\n\\n\\n\\n\\n\\n\\n\\n\\n\\n\\n\\n\\n\\n\\n\\n\\n\\n\\n\\n\\n            위대한 쇼맨 (The Greatest Showman) OST - This Is Me 가사 번역 뮤직비디오\\n          \\n\\n\\n\\n\\n\\n\\n\\n워너뮤직코리아 (Warner Music Korea)\\n\\n\\n  \\n    워너뮤직코리아 (Warner Music Korea)\\n  \\n\\n\\n\\n\\n  인증됨\\n\\n\\n\\n•\\n\\n\\n\\n\\n•\\n조회수 3376만회\\n5년 전\\n\\n\\n\\n\\n\\n\\n\\n\\n\\n\\n\\n\\n\\n\\n\\n\\n\\n\\n\\n\\n\\n\\n  3:17:40\\n지금 재생 중\\n\\n\\n\\n\\n\\n\\n\\n\\n\\n\\n\\n\\n\\n\\n\\n\\n\\n\\n\\n\\n            하루 종일 듣기 좋은 노래 🎶💖일할때 듣기좋은 발라드 추천 광고없는 노래모음🎶 김범수/ 임창정/ 박효신/성시경/ 백지영/ 더원/태연/박명수/에일리/찬열/ 펀치/ 다비치/로꼬/ 펀치\\n          \\n\\n\\n\\n\\n\\n\\n\\n발라드 모음 K-POP\\n\\n\\n  \\n    발라드 모음 K-POP\\n  \\n\\n\\n\\n\\n\\n\\n•\\n\\n\\n\\n\\n•\\n조회수 38만회\\n1개월 전\\n\\n\\n\\n\\n\\n\\n\\n\\n\\n\\n\\n\\n\\n\\n\\n\\n\\n\\n\\n\\n\\n\\n  5:28\\n지금 재생 중\\n\\n\\n\\n\\n\\n\\n\\n\\n\\n\\n\\n\\n\\n\\n\\n\\n\\n\\n\\n\\n            윤하(YOUNHA) - 사건의 지평선 M/V\\n          \\n\\n\\n\\n\\n\\n\\n\\nYOUNHA OFFICIAL\\n\\n\\n  \\n    YOUNHA OFFICIAL\\n  \\n\\n\\n\\n\\n  공식 아티스트 채널\\n\\n\\n\\n•\\n\\n\\n\\n\\n•\\n조회수 2233만회\\n1년 전\\n\\n\\n\\n\\n\\n\\n\\n\\n\\n\\n\\n\\n\\n\\n\\n\\n\\n\\n\\n\\n\\n\\n  3:21\\n지금 재생 중\\n\\n\\n\\n\\n\\n\\n\\n\\n\\n\\n\\n\\n\\n\\n\\n\\n\\n\\n\\n\\n            앤-마리 (Anne-Marie) - 2002 (Live) 가사번역 by 영화번역가 황석희\\n          \\n\\n\\n\\n\\n\\n\\n\\n워너뮤직코리아 (Warner Music Korea)\\n\\n\\n  \\n    워너뮤직코리아 (Warner Music Korea)\\n  \\n\\n\\n\\n\\n  인증됨\\n\\n\\n\\n•\\n\\n\\n\\n\\n•\\n조회수 2700만회\\n4년 전\\n\\n\\n\\n\\n\\n\\n\\n\\n\\n\\n\\n\\n\\n\\n\\n\\n\\n\\n\\n\\n\\n\\n  4:00:00\\n지금 재생 중\\n\\n\\n\\n\\n\\n\\n\\n\\n\\n\\n\\n\\n\\n\\n\\n\\n\\n\\n\\n\\n            𝐏𝐥𝐚𝐲𝐥𝐢𝐬𝐭 질리도록 듣는 히트곡엔 그 이유가 있다𝐅𝐞𝐚𝐭. 𝐋𝐚𝐮𝐯, 𝐋𝐚𝐧𝐲, 𝐇𝐨𝐧𝐧𝐞, 𝐤𝐞𝐬𝐡𝐢, 𝐏𝐞𝐝𝐞𝐫 𝐄𝐥𝐢𝐚𝐬, 𝐓𝐫𝐨𝐲𝐞 𝐒𝐢𝐯𝐚𝐧, 𝐂𝐡𝐚𝐫𝐥𝐢𝐞 𝐏𝐮𝐭𝐡\\n          \\n\\n\\n\\n\\n\\n\\n\\n때껄룩ᴛᴀᴋᴇ ᴀ ʟᴏᴏᴋ\\n\\n\\n  \\n    때껄룩ᴛᴀᴋᴇ ᴀ ʟᴏᴏᴋ\\n  \\n\\n\\n\\n\\n  인증됨\\n\\n\\n\\n•\\n\\n\\n\\n\\n•\\n조회수 310만회\\n1개월 전\\n\\n\\n\\n\\n\\n\\n\\n\\n\\n\\n\\n\\n\\n\\n\\n\\n\\n\\n\\n\\n\\n\\n  5:48\\n지금 재생 중\\n\\n\\n\\n\\n\\n\\n\\n\\n\\n\\n\\n\\n\\n\\n\\n\\n\\n\\n\\n\\n            어쩌면 영화보다 더 유명한 전설의 OST : RADWIMPS - Nandemonaiya(아무것도 아니야) [가사/해석/번역/lyrics]\\n          \\n\\n\\n\\n\\n\\n\\n\\n쏘플 soso playlist\\n\\n\\n  \\n    쏘플 soso playlist\\n  \\n\\n\\n\\n\\n  인증됨\\n\\n\\n\\n•\\n\\n\\n\\n\\n•\\n조회수 894만회\\n7개월 전\\n\\n\\n\\n\\n\\n\\n\\n\\n\\n\\n\\n\\n\\n\\n\\n\\n\\n\\n\\n\\n\\n\\n  1:01:04\\n지금 재생 중\\n\\n\\n\\n\\n\\n\\n\\n\\n\\n\\n\\n\\n\\n\\n\\n\\n\\n\\n\\n\\n            더워 죽기 전에 들어야 할 여름 팝송 | pop playlist 🔥\\n          \\n\\n\\n\\n\\n\\n\\n\\nby.hayeon\\n\\n\\n  \\n    by.hayeon\\n  \\n\\n\\n\\n\\n\\n\\n•\\n\\n\\n\\n\\n•\\n조회수 266만회\\n1년 전\\n\\n\\n\\n\\n\\n\\n\\n\\n\\n\\n\\n\\n\\n\\n\\n\\n\\n\\n\\n\\n\\n\\n  1:26:39\\n지금 재생 중\\n\\n\\n\\n\\n\\n\\n\\n\\n\\n\\n\\n\\n\\n\\n\\n\\n\\n\\n\\n\\n            [Playlist] 알지? 인생은 롤러코스터야 🎢ㅣ힘찬 하루를 만들어 줄 신나는 팝락ㅣlife is a rollercoaster 🎢\\n          \\n\\n\\n\\n\\n\\n\\n\\nessential;\\n\\n\\n  \\n    essential;\\n  \\n\\n\\n\\n\\n  인증됨\\n\\n\\n\\n•\\n\\n\\n\\n\\n•\\n조회수 59만회\\n1년 전\\n\\n\\n\\n\\n\\n\\n\\n\\n\\n\\n\\n\\n\\n\\n\\n\\n\\n\\n\\n\\n\\n\\n  8:31:21\\n지금 재생 중\\n\\n\\n\\n\\n\\n\\n\\n\\n\\n\\n\\n\\n\\n\\n\\n\\n\\n\\n\\n\\n            한번쯤 스쳐 들어본, 영화 속 재즈 [playlist]\\n          \\n\\n\\n\\n\\n\\n\\n\\n재즈오빠 Jazzoppa\\n\\n\\n  \\n    재즈오빠 Jazzoppa\\n  \\n\\n\\n\\n\\n\\n\\n•\\n\\n\\n\\n\\n•\\n조회수 778회\\n4시간 전\\n\\n\\n\\n\\n\\n\\n\\n새 동영상\\n\\n\\n\\n\\n\\n\\n\\n\\n\\n\\n\\n\\n\\n\\n  1:20:10\\n지금 재생 중\\n\\n\\n\\n\\n\\n\\n\\n\\n\\n\\n\\n\\n\\n\\n\\n\\n\\n\\n\\n\\n            【𝐏𝐥𝐚𝐲𝐥𝐢𝐬𝐭】 잠시라도 코로나가 없던 그 시절, 그때로 돌아갈 수 있다면ㅣ2018 ~ 2019 노래 모음\\n          \\n\\n\\n\\n\\n\\n\\n\\n유월\\n\\n\\n  \\n    유월\\n  \\n\\n\\n\\n\\n\\n\\n•\\n\\n\\n\\n\\n•\\n조회수 97만회\\n1개월 전\\n\\n\\n\\n\\n\\n\\n\\n\\n\\n\\n\\n\\n\\n\\n\\n\\n\\n\\n\\n\\n\\n\\n  1:00:22\\n지금 재생 중\\n\\n\\n\\n\\n\\n\\n\\n\\n\\n\\n\\n\\n\\n\\n\\n\\n\\n\\n\\n\\n            Coldplay - Viva La Vida 1 Hour (Lyrics)\\n          \\n\\n\\n\\n\\n\\n\\n\\nZundow\\n\\n\\n  \\n    Zundow\\n  \\n\\n\\n\\n\\n\\n\\n•\\n\\n\\n\\n\\n•\\n조회수 148만회\\n1년 전\\n\\n\\n\\n\\n\\n\\n\\n\\n\\n\\n\\n\\n\\n\\n\\n\\n\\n\\n\\n\\n\\n\\n  50:40\\n지금 재생 중\\n\\n\\n\\n\\n\\n\\n\\n\\n\\n\\n\\n\\n\\n\\n\\n\\n\\n\\n\\n\\n            𝓟𝓵𝓪𝔂𝓵𝓲𝓼𝓽 │ 여행 시즌 왔잖아. 안 갈꺼야?\\n          \\n\\n\\n\\n\\n\\n\\n\\nMy Luv Song\\n\\n\\n  \\n    My Luv Song\\n  \\n\\n\\n\\n\\n\\n\\n•\\n\\n\\n\\n\\n•\\n조회수 3.5천회\\n6일 전\\n\\n\\n\\n\\n\\n\\n\\n새 동영상\\n\\n\\n\\n\\n\\n\\n\\n\\n\\n\\n\\n\\n\\n\\n  3:21\\n지금 재생 중\\n\\n\\n\\n\\n\\n\\n\\n\\n\\n\\n\\n\\n\\n\\n\\n\\n\\n\\n\\n\\n            [MV] 가호 - \\'시작\\' ＜이태원 클라쓰(Itaewon class)＞ OST Part.2♪\\n          \\n\\n\\n\\n\\n\\n\\n\\nJTBC Drama\\n\\n\\n  \\n    JTBC Drama\\n  \\n\\n\\n\\n\\n  인증됨\\n\\n\\n\\n•\\n\\n\\n\\n\\n•\\n조회수 1786만회\\n3년 전\\n\\n\\n\\n\\n\\n\\n\\n\\n\\n\\n\\n\\n\\n\\n\\n\\n\\n\\n\\n\\n\\n\\n  4:44\\n지금 재생 중\\n\\n\\n\\n\\n\\n\\n\\n\\n\\n\\n\\n\\n\\n\\n\\n\\n\\n\\n\\n\\n            OneRepublic - Counting Stars\\n          \\n\\n\\n\\n\\n\\n\\n\\nOneRepublic\\n\\n\\n  \\n    OneRepublic\\n  \\n\\n\\n\\n\\n  공식 아티스트 채널\\n\\n\\n\\n•\\n\\n\\n\\n\\n•\\n조회수 38억회\\n10년 전\\n\\n\\n\\n\\n\\n\\n\\n\\n\\n\\n\\n\\n\\n\\n\\n\\n\\n\\n\\n\\n\\n\\n  3:19:20\\n지금 재생 중\\n\\n\\n\\n\\n\\n\\n\\n\\n\\n\\n\\n\\n\\n\\n\\n\\n\\n\\n\\n\\n            𝐏𝐥𝐚𝐲𝐥𝐢𝐬𝐭 2023년 7월 17일 실시간 인기차트 🎵🥝 KPOP 발라드, 팝송, 힙합, 아이돌 그룹 | 노래모음 최신가요, 광고없는 멜론차트 플레이리스트 | PLAYLIST\\n          \\n\\n\\n\\n\\n\\n\\n\\n1H Kpop\\n\\n\\n  \\n    1H Kpop\\n  \\n\\n\\n\\n\\n\\n\\n•\\n\\n\\n\\n\\n•\\n조회수 8.2천회\\n4시간 전\\n\\n\\n\\n\\n\\n\\n\\n새 동영상\\n\\n\\n\\n\\n\\n\\n\\n\\n\\n\\n\\n\\n\\n\\n  5:29\\n지금 재생 중\\n\\n\\n\\n\\n\\n\\n\\n\\n\\n\\n\\n\\n\\n\\n\\n\\n\\n\\n\\n\\n            \"짝사랑하시면 들으세요\" | 콜드플레이 Coldplay - Yellow 라이브 가사해석\\n          \\n\\n\\n\\n\\n\\n\\n\\nSONG FOR\\n\\n\\n  \\n    SONG FOR\\n  \\n\\n\\n\\n\\n\\n\\n•\\n\\n\\n\\n\\n•\\n조회수 15만회\\n5년 전\\n\\n\\n\\n\\n\\n\\n\\n\\n\\n\\n\\n\\n\\n\\n\\n\\n\\n\\n\\n\\n\\n\\n  4:03\\n지금 재생 중\\n\\n\\n\\n\\n\\n\\n\\n\\n\\n\\n\\n\\n\\n\\n\\n\\n\\n\\n\\n\\n            콜드플레이 (Coldplay) - Viva La Vida 가사번역 by 영화번역가 황석희\\n          \\n\\n\\n\\n\\n\\n\\n\\n워너뮤직코리아 (Warner Music Korea)\\n\\n\\n  \\n    워너뮤직코리아 (Warner Music Korea)\\n  \\n\\n\\n\\n\\n  인증됨\\n\\n\\n\\n•\\n\\n\\n\\n\\n•\\n조회수 190만회\\n6년 전\\n\\n\\n\\n\\n\\n\\n\\n\\n\\n\\n\\n\\n\\n\\n\\n\\n\\n\\n\\n\\n\\n\\n  26:15\\n지금 재생 중\\n\\n\\n\\n\\n\\n\\n\\n\\n\\n\\n\\n\\n\\n\\n\\n\\n\\n\\n\\n\\n            배치기 명곡모음 (눈물샤워, 이 방, 뜨래요, No.3, 더 해, 두마리, Unfade) LIVE // [DF Mixtape Vol.1 배치기]\\n          \\n\\n\\n\\n\\n\\n\\n\\ndingo freestyle\\n\\n\\n  \\n    dingo freestyle\\n  \\n\\n\\n\\n\\n  인증됨\\n\\n\\n\\n•\\n\\n\\n\\n\\n•\\n조회수 231만회\\n5년 전\\n\\n\\n\\n\\n\\n\\n\\n\\n\\n\\n\\n\\n\\n\\n\\n\\n\\n\\n\\n\\n\\n\\n  47:40\\n지금 재생 중\\n\\n\\n\\n\\n\\n\\n\\n\\n\\n\\n\\n\\n\\n\\n\\n\\n\\n\\n\\n\\n            C.o.l.p.l.a.y 2023 ~ Top 10 Best Songs Of C.o.l.d.p.l.a.y\\n          \\n\\n\\n\\n\\n\\n\\n\\nSuccess Music\\n\\n\\n  \\n    Success Music\\n  \\n\\n\\n\\n\\n\\n\\n•\\n\\n\\n\\n\\n•\\n조회수 52만회\\n2개월 전\\n\\n\\n\\n\\n\\n\\n\\n\\n\\n\\n\\n\\n\\n\\n\\n\\n\\n\\n\\n\\n\\n\\n  2:21:16\\n지금 재생 중\\n\\n\\n\\n\\n\\n\\n\\n\\n\\n\\n\\n\\n\\n\\n\\n\\n\\n\\n\\n\\n            아침에 듣기좋은 달달한 힐링 팝송 플리 ✨  햇살처럼 밝고 잔잔한 노래 모음 _ 재업\\n          \\n\\n\\n\\n\\n\\n\\n\\nBlue rain\\n\\n\\n  \\n    Blue rain\\n  \\n\\n\\n\\n\\n  인증됨\\n\\n\\n\\n•\\n\\n\\n\\n\\n•\\n조회수 2.7천회\\n4시간 전\\n\\n\\n\\n\\n\\n\\n\\n새 동영상\\n\\n\\n\\n\\n\\n\\n\\n\\n\\n\\n\\n\\n\\n\\n  4:41\\n지금 재생 중\\n\\n\\n\\n\\n\\n\\n\\n\\n\\n\\n\\n\\n\\n\\n\\n\\n\\n\\n\\n\\n            콜드플레이 (Coldplay) - Everglow (Live at Belasco Theater) 가사 번역 뮤직비디오\\n          \\n\\n\\n\\n\\n\\n\\n\\n워너뮤직코리아 (Warner Music Korea)\\n\\n\\n  \\n    워너뮤직코리아 (Warner Music Korea)\\n  \\n\\n\\n\\n\\n  인증됨\\n\\n\\n\\n•\\n\\n\\n\\n\\n•\\n조회수 550만회\\n6년 전\\n\\n\\n\\n\\n\\n\\n\\n\\n\\n\\n\\n\\n\\n\\n\\n\\n\\n\\n\\n\\n\\n\\n  4:27\\n지금 재생 중\\n\\n\\n\\n\\n\\n\\n\\n\\n\\n\\n\\n\\n\\n\\n\\n\\n\\n\\n\\n\\n            💫우린 길 잃은 별들인가요?💫｜Adam Levine - Lost Stars [가사/해석/번역]\\n          \\n\\n\\n\\n\\n\\n\\n\\nsong for you.\\n\\n\\n  \\n    song for you.\\n  \\n\\n\\n\\n\\n\\n\\n•\\n\\n\\n\\n\\n•\\n조회수 569만회\\n2년 전\\n\\n\\n\\n\\n\\n\\n\\n\\n\\n\\n\\n\\n\\n\\n\\n\\n\\n\\n\\n\\n\\n\\n  58:05\\n지금 재생 중\\n\\n\\n\\n\\n\\n\\n\\n\\n\\n\\n\\n\\n\\n\\n\\n\\n\\n\\n\\n\\n            광고없이 듣는 박효신노래모음 BEST 12곡\\n          \\n\\n\\n\\n\\n\\n\\n\\n효붕이네\\n\\n\\n  \\n    효붕이네\\n  \\n\\n\\n\\n\\n\\n\\n•\\n\\n\\n\\n\\n•\\n조회수 422만회\\n3년 전\\n\\n\\n\\n\\n\\n\\n\\n\\n\\n\\n\\n\\n\\n\\n\\n\\n\\n\\n\\n\\n\\n\\n  3:09\\n지금 재생 중\\n\\n\\n\\n\\n\\n\\n\\n\\n\\n\\n\\n\\n\\n\\n\\n\\n\\n\\n\\n\\n            I Don’t Think That I Like Her\\n          \\n\\n\\n\\n\\n\\n\\n\\nCharlie Puth\\n\\n\\n  \\n    Charlie Puth\\n  \\n\\n\\n\\n\\n  공식 아티스트 채널\\n\\n\\n\\n•\\n\\n\\n\\n\\n•\\n조회수 5482만회\\n9개월 전\\n\\n\\n\\n\\n\\n\\n\\n\\n\\n\\n\\n\\n\\n\\n\\n\\n\\n\\n\\n\\n\\n\\n  3:45\\n지금 재생 중\\n\\n\\n\\n\\n\\n\\n\\n\\n\\n\\n\\n\\n\\n\\n\\n\\n\\n\\n\\n\\n            샘 라이더 (Sam Ryder) - Tiny Riot 가사 번역 라이브\\n          \\n\\n\\n\\n\\n\\n\\n\\n워너뮤직코리아 (Warner Music Korea)\\n\\n\\n  \\n    워너뮤직코리아 (Warner Music Korea)\\n  \\n\\n\\n\\n\\n  인증됨\\n\\n\\n\\n•\\n\\n\\n\\n\\n•\\n조회수 1428만회\\n2년 전\\n\\n\\n\\n\\n\\n\\n\\n\\n\\n\\n\\n\\n\\n\\n\\n\\n\\n\\n\\n\\n\\n\\n  4:03\\n지금 재생 중\\n\\n\\n\\n\\n\\n\\n\\n\\n\\n\\n\\n\\n\\n\\n\\n\\n\\n\\n\\n\\n            Coldplay - Viva La Vida (Official Video)\\n          \\n\\n\\n\\n\\n\\n\\n\\nColdplay\\n\\n\\n  \\n    Coldplay\\n  \\n\\n\\n\\n\\n  공식 아티스트 채널\\n\\n\\n\\n•\\n\\n\\n\\n\\n•\\n조회수 8.3억회\\n14년 전\\n\\n\\n\\n\\n\\n\\n\\n\\n\\n\\n\\n\\n\\n\\n\\n\\n\\n\\n\\n\\n\\n\\n  2:04:41\\n지금 재생 중\\n\\n\\n\\n\\n\\n\\n\\n\\n\\n\\n\\n\\n\\n\\n\\n\\n\\n\\n\\n\\n            카페에서 듣기 좋은 팝송🧋ㅣPLAYLIST\\n          \\n\\n\\n\\n\\n\\n\\n\\n달콤한커피\\n\\n\\n  \\n    달콤한커피\\n  \\n\\n\\n\\n\\n\\n\\n•\\n\\n\\n\\n\\n•\\n조회수 19만회\\n1개월 전\\n\\n\\n\\n\\n\\n\\n\\n\\n\\n\\n\\n\\n\\n\\n\\n\\n\\n\\n\\n\\n\\n\\n  5:12:39\\n지금 재생 중\\n\\n\\n\\n\\n\\n\\n\\n\\n\\n\\n\\n\\n\\n\\n\\n\\n\\n\\n\\n\\n            🔥요즘 가장 핫한 인기 팝송 모음 100곡 모두 해석해버리기 PLAYLIST\\n          \\n\\n\\n\\n\\n\\n\\n\\nH녀\\n\\n\\n  \\n    H녀\\n  \\n\\n\\n\\n\\n\\n\\n•\\n\\n\\n\\n\\n•\\n조회수 471만회\\n1년 전\\n\\n\\n\\n\\n\\n\\n\\n\\n\\n\\n\\n\\n\\n\\n\\n\\n\\n\\n\\n\\n\\n\\n  14:00\\n지금 재생 중\\n\\n\\n\\n\\n\\n\\n\\n\\n\\n\\n\\n\\n\\n\\n\\n\\n\\n\\n\\n\\n            [로스트아크 플레이리스트] 볼다이크의 설렘과 두려움\\n          \\n\\n\\n\\n\\n\\n\\n\\n삼돌이\\n\\n\\n  \\n    삼돌이\\n  \\n\\n\\n\\n\\n\\n\\n•\\n\\n\\n\\n\\n•\\n조회수 2회\\n1시간 전\\n\\n\\n\\n\\n\\n\\n\\n새 동영상\\n\\n\\n\\n\\n\\n\\n\\n\\n\\n\\n\\n\\n\\n\\n  2:07:50\\n지금 재생 중\\n\\n\\n\\n\\n\\n\\n\\n\\n\\n\\n\\n\\n\\n\\n\\n\\n\\n\\n\\n\\n            𝕡𝕝𝕒𝕪𝕝𝕚𝕤𝕥 내 취향 가득 담은 Feat. 해리 스타일스, 찰리 푸스, 코난 그레이, 라우브, 트로이 시반\\n          \\n\\n\\n\\n\\n\\n\\n\\n제이 J\\n\\n\\n  \\n    제이 J\\n  \\n\\n\\n\\n\\n\\n\\n•\\n\\n\\n\\n\\n•\\n조회수 417만회\\n1년 전\\n\\n\\n\\n\\n\\n\\n\\n\\n\\n\\n\\n\\n\\n\\n\\n\\n\\n\\n\\n\\n\\n\\n  3:34:13\\n지금 재생 중\\n\\n\\n\\n\\n\\n\\n\\n\\n\\n\\n\\n\\n\\n\\n\\n\\n\\n\\n\\n\\n            𝐏𝐥𝐚𝐲𝐥𝐢𝐬𝐭 드라이브 플리 시리즈 총모음 | 이거 틀면 운전하다 옆차선에서 제목 알려 달라한다 Driving music playlist\\n          \\n\\n\\n\\n\\n\\n\\n\\n때껄룩ᴛᴀᴋᴇ ᴀ ʟᴏᴏᴋ\\n\\n\\n  \\n    때껄룩ᴛᴀᴋᴇ ᴀ ʟᴏᴏᴋ\\n  \\n\\n\\n\\n\\n  인증됨\\n\\n\\n\\n•\\n\\n\\n\\n\\n•\\n조회수 272만회\\n3개월 전\\n\\n\\n\\n\\n\\n\\n\\n\\n\\n\\n\\n\\n\\n\\n\\n\\n\\n\\n\\n\\n\\n\\n  1:06:43\\n지금 재생 중\\n\\n\\n\\n\\n\\n\\n\\n\\n\\n\\n\\n\\n\\n\\n\\n\\n\\n\\n\\n\\n            김장훈   Honey 1시간\\n          \\n\\n\\n\\n\\n\\n\\n\\n김C 게임채널\\n\\n\\n  \\n    김C 게임채널\\n  \\n\\n\\n\\n\\n\\n\\n•\\n\\n\\n\\n\\n•\\n조회수 4만회\\n1년 전\\n\\n\\n\\n\\n\\n\\n\\n\\n\\n\\n\\n\\n\\n\\n\\n\\n\\n\\n\\n\\n\\n\\n  10:02:09\\n지금 재생 중\\n\\n\\n\\n\\n\\n\\n\\n\\n\\n\\n\\n\\n\\n\\n\\n\\n\\n\\n\\n\\n            광고없는 팝송 모음 🎵 게임할때 듣기 좋은 노래 10시간 음악\\n          \\n\\n\\n\\n\\n\\n\\n\\n리폿\\n\\n\\n  \\n    리폿\\n  \\n\\n\\n\\n\\n\\n\\n•\\n\\n\\n\\n\\n•\\n조회수 312만회\\n3년 전\\n\\n\\n\\n\\n\\n\\n\\n\\n\\n\\n\\n\\n\\n\\n\\n\\n\\n\\n\\n\\n\\n\\n  2:22:02\\n지금 재생 중\\n\\n\\n\\n\\n\\n\\n\\n\\n\\n\\n\\n\\n\\n\\n\\n\\n\\n\\n\\n\\n            🎧이수현 Playlist🎧 \\'심신 안정 보이스\\' 이수현 노래 모음 ｜ 비긴어게인 모아듣기\\n          \\n\\n\\n\\n\\n\\n\\n\\nBeginagain 비긴어게인\\n\\n\\n  \\n    Beginagain 비긴어게인\\n  \\n\\n\\n\\n\\n\\n\\n•\\n\\n\\n\\n\\n•\\n조회수 1503만회\\n2년 전\\n\\n\\n\\n\\n\\n\\n\\n\\n\\n\\n\\n\\n\\n\\n\\n\\n\\n\\n\\n\\n\\n\\n  5:19\\n지금 재생 중\\n\\n\\n\\n\\n\\n\\n\\n\\n\\n\\n\\n\\n\\n\\n\\n\\n\\n\\n\\n\\n            Coldplay - Viva La Vida (Live in Madrid 2011)\\n          \\n\\n\\n\\n\\n\\n\\n\\nColdplay\\n\\n\\n  \\n    Coldplay\\n  \\n\\n\\n\\n\\n  공식 아티스트 채널\\n\\n\\n\\n•\\n\\n\\n\\n\\n•\\n조회수 1억회\\n11년 전\\n\\n\\n\\n\\n\\n\\n\\n\\n\\n\\n\\n\\n\\n\\n\\n\\n\\n\\n\\n\\n\\n\\n  3:31\\n지금 재생 중\\n\\n\\n\\n\\n\\n\\n\\n\\n\\n\\n\\n\\n\\n\\n\\n\\n\\n\\n\\n\\n            서사까지 완벽했던 레전드명곡🔥🔥: Lil Nas X - STAR WALKIN\\' (League of Legends Worlds Anthem) [가사해석/번역]\\n          \\n\\n\\n\\n\\n\\n\\n\\n직키(Zickii)\\n\\n\\n  \\n    직키(Zickii)\\n  \\n\\n\\n\\n\\n\\n\\n•\\n\\n\\n\\n\\n•\\n조회수 539만회\\n9개월 전\\n\\n\\n\\n\\n\\n\\n\\n\\n\\n\\n\\n\\n\\n\\n\\n\\n\\n\\n\\n\\n\\n\\n  8:55\\n지금 재생 중\\n\\n\\n\\n\\n\\n\\n\\n\\n\\n\\n\\n\\n\\n\\n\\n\\n\\n\\n\\n\\n            콜드플레이 내한공연 떼창 Coldplay - Viva La Vida + Adventure Of A Lifetime (Live In Seoul, Korea)\\n          \\n\\n\\n\\n\\n\\n\\n\\nHanjin Sohn\\n\\n\\n  \\n    Hanjin Sohn\\n  \\n\\n\\n\\n\\n\\n\\n•\\n\\n\\n\\n\\n•\\n조회수 147만회\\n6년 전\\n\\n\\n\\n\\n\\n\\n\\n\\n\\n\\n\\n\\n\\n\\n\\n\\n\\n\\n\\n\\n\\n\\n  3:11:56\\n지금 재생 중\\n\\n\\n\\n\\n\\n\\n\\n\\n\\n\\n\\n\\n\\n\\n\\n\\n\\n\\n\\n\\n            (중간광고없음) 어디론가 떠나고 싶은 날 적당히 신나는 팝송 ☁️ ✨ 드라이브, 여행\\n          \\n\\n\\n\\n\\n\\n\\n\\nBlue rain\\n\\n\\n  \\n    Blue rain\\n  \\n\\n\\n\\n\\n  인증됨\\n\\n\\n\\n•\\n\\n\\n\\n\\n•\\n조회수 63만회\\n4개월 전\\n\\n\\n\\n\\n\\n\\n\\n\\n\\n\\n\\n\\n\\n\\n\\n\\n\\n\\n\\n\\n\\n\\n  2:04:00\\n지금 재생 중\\n\\n\\n\\n\\n\\n\\n\\n\\n\\n\\n\\n\\n\\n\\n\\n\\n\\n\\n\\n\\n            𝐏𝐥𝐚𝐲𝐥𝐢𝐬𝐭 아이묭의 노래를 전하고 싶다든가 | 아이묭 노래 모음 あいみょん\\n          \\n\\n\\n\\n\\n\\n\\n\\n때껄룩ᴛᴀᴋᴇ ᴀ ʟᴏᴏᴋ\\n\\n\\n  \\n    때껄룩ᴛᴀᴋᴇ ᴀ ʟᴏᴏᴋ\\n  \\n\\n\\n\\n\\n  인증됨\\n\\n\\n\\n•\\n\\n\\n\\n\\n•\\n조회수 189만회\\n3개월 전\\n\\n\\n\\n\\n\\n\\n\\n\\n\\n\\n\\n\\n\\n\\n\\n\\n\\n\\n\\n\\n\\n\\n  4:10\\n지금 재생 중\\n\\n\\n\\n\\n\\n\\n\\n\\n\\n\\n\\n\\n\\n\\n\\n\\n\\n\\n\\n\\n            Coldplay - Viva La Vida\\n          \\n\\n\\n\\n\\n\\n\\n\\n마치 [MRCH]\\n\\n\\n  \\n    마치 [MRCH]\\n  \\n\\n\\n\\n\\n  인증됨\\n\\n\\n\\n•\\n\\n\\n\\n\\n•\\n조회수 667만회\\n2년 전\\n\\n\\n\\n\\n\\n\\n\\n\\n\\n\\n\\n\\n\\n\\n\\n\\n\\n\\n\\n\\n\\n\\n  1:15:28\\n지금 재생 중\\n\\n\\n\\n\\n\\n\\n\\n\\n\\n\\n\\n\\n\\n\\n\\n\\n\\n\\n\\n\\n            여름엔 청량이지🐳🐳 더위를 날려 줄 시원한 댄스곡 모음.zip | 여름𝐏𝐥𝐚𝐲𝐥𝐢𝐬𝐭 |\\n          \\n\\n\\n\\n\\n\\n\\n\\nSERENDIPITY 세렌디피티\\n\\n\\n  \\n    SERENDIPITY 세렌디피티\\n  \\n\\n\\n\\n\\n\\n\\n•\\n\\n\\n\\n\\n•\\n조회수 36만회\\n10일 전\\n\\n\\n\\n\\n\\n\\n\\n\\n\\n\\n\\n\\n\\n\\n\\n\\n\\n\\n\\n\\n\\n\\n  4:07\\n지금 재생 중\\n\\n\\n\\n\\n\\n\\n\\n\\n\\n\\n\\n\\n\\n\\n\\n\\n\\n\\n\\n\\n            클린 밴딧 (Clean Bandit) - Symphony feat. Zara Larsson 가사번역 by 영화번역가 황석희\\n          \\n\\n\\n\\n\\n\\n\\n\\n워너뮤직코리아 (Warner Music Korea)\\n\\n\\n  \\n    워너뮤직코리아 (Warner Music Korea)\\n  \\n\\n\\n\\n\\n  인증됨\\n\\n\\n\\n•\\n\\n\\n\\n\\n•\\n조회수 694만회\\n6년 전\\n\\n\\n\\n\\n\\n\\n\\n\\n\\n\\n\\n\\n\\n\\n\\n\\n\\n\\n\\n\\n\\n\\n  4:00\\n지금 재생 중\\n\\n\\n\\n\\n\\n\\n\\n\\n\\n\\n\\n\\n\\n\\n\\n\\n\\n\\n\\n\\n            루카스 그레이엄 (Lukas Graham) - 7 Years 가사 번역 뮤직비디오\\n          \\n\\n\\n\\n\\n\\n\\n\\n워너뮤직코리아 (Warner Music Korea)\\n\\n\\n  \\n    워너뮤직코리아 (Warner Music Korea)\\n  \\n\\n\\n\\n\\n  인증됨\\n\\n\\n\\n•\\n\\n\\n\\n\\n•\\n조회수 1283만회\\n7년 전\\n\\n\\n\\n\\n\\n\\n\\n\\n\\n\\n\\n\\n\\n\\n\\n\\n\\n\\n\\n\\n\\n\\n  3:00:00\\n지금 재생 중\\n\\n\\n\\n\\n\\n\\n\\n\\n\\n\\n\\n\\n\\n\\n\\n\\n\\n\\n\\n\\n            𝐏𝐥𝐚𝐲𝐥𝐢𝐬𝐭 따사로운 봄을 기다리며 spring pop 🌱🌼\\n          \\n\\n\\n\\n\\n\\n\\n\\n때껄룩ᴛᴀᴋᴇ ᴀ ʟᴏᴏᴋ\\n\\n\\n  \\n    때껄룩ᴛᴀᴋᴇ ᴀ ʟᴏᴏᴋ\\n  \\n\\n\\n\\n\\n  인증됨\\n\\n\\n\\n•\\n\\n\\n\\n\\n•\\n조회수 713만회\\n4개월 전\\n\\n\\n\\n\\n\\n\\n\\n\\n\\n\\n\\n\\n\\n\\n\\n\\n\\n\\n\\n\\n\\n\\n  21:23\\n지금 재생 중\\n\\n\\n\\n\\n\\n\\n\\n\\n\\n\\n\\n\\n\\n\\n\\n\\n\\n\\n\\n\\n            콜드플레이의 음악이 언제나 우리 곁에 있는 이유ㅣColdplay(콜드플레이) 이야기\\n          \\n\\n\\n\\n\\n\\n\\n\\n우키팝\\n\\n\\n  \\n    우키팝\\n  \\n\\n\\n\\n\\n  인증됨\\n\\n\\n\\n•\\n\\n\\n\\n\\n•\\n조회수 42만회\\n2년 전\\n\\n\\n\\n\\n\\n\\n\\n\\n\\n\\n\\n\\n\\n\\n\\n\\n\\n\\n\\n\\n\\n\\n  3:05:37\\n지금 재생 중\\n\\n\\n\\n\\n\\n\\n\\n\\n\\n\\n\\n\\n\\n\\n\\n\\n\\n\\n\\n\\n            𝐏𝐥𝐚𝐲𝐥𝐢𝐬𝐭 내가 좋아하는 남자 발라드 모음 | 비 오는 날 듣기 좋은 노래 | 원조 정통 발라드 모음\\n          \\n\\n\\n\\n\\n\\n\\n\\n이음 𝐄-𝐮𝐦 𝐏𝐋𝐀𝐘𝐋𝐈𝐒𝐓\\n\\n\\n  \\n    이음 𝐄-𝐮𝐦 𝐏𝐋𝐀𝐘𝐋𝐈𝐒𝐓\\n  \\n\\n\\n\\n\\n\\n\\n•\\n\\n\\n\\n\\n•\\n조회수 93만회\\n1개월 전\\n\\n\\n\\n\\n\\n\\n\\n\\n\\n\\n\\n\\n\\n\\n\\n\\n\\n\\n\\n\\n\\n\\n  2:15:39\\n지금 재생 중\\n\\n\\n\\n\\n\\n\\n\\n\\n\\n\\n\\n\\n\\n\\n\\n\\n\\n\\n\\n\\n            【𝐏𝐥𝐚𝐲𝐥𝐢𝐬𝐭】한 번쯤은 들어봤을 유명한 JPOP 노래 모음ㅣJPOP 플레이리스트\\n          \\n\\n\\n\\n\\n\\n\\n\\n유월\\n\\n\\n  \\n    유월\\n  \\n\\n\\n\\n\\n\\n\\n•\\n\\n\\n\\n\\n•\\n조회수 30만회\\n3주 전\\n\\n\\n\\n\\n\\n\\n\\n\\n\\n\\n\\n\\n\\n\\n\\n\\n\\n\\n\\n\\n\\n\\n  3:01\\n지금 재생 중\\n\\n\\n\\n\\n\\n\\n\\n\\n\\n\\n\\n\\n\\n\\n\\n\\n\\n\\n\\n\\n            Coldplay - Viva La Vida - #ColdplayZurich 2023 concert\\n          \\n\\n\\n\\n\\n\\n\\n\\nfo2motion\\n\\n\\n  \\n    fo2motion\\n  \\n\\n\\n\\n\\n\\n\\n•\\n\\n\\n\\n\\n•\\n조회수 4.3천회\\n11일 전\\n\\n\\n\\n\\n\\n\\n\\n\\n\\n\\n\\n\\n\\n\\n\\n\\n\\n\\n\\n\\n\\n\\n  1:17:29\\n지금 재생 중\\n\\n\\n\\n\\n\\n\\n\\n\\n\\n\\n\\n\\n\\n\\n\\n\\n\\n\\n\\n\\n            거진 전국민 떼창 가능한 한국 드라마 ost 인기곡 모음 ❤️ 플레이리스트 광고없음 ❤️ 어느새 후렴구를 따라 부르고 있겠지..\\n          \\n\\n\\n\\n\\n\\n\\n\\nK-Music 바이브\\n\\n\\n  \\n    K-Music 바이브\\n  \\n\\n\\n\\n\\n\\n\\n•\\n\\n\\n\\n\\n•\\n조회수 4회\\n28분 전\\n\\n\\n\\n\\n\\n\\n\\n새 동영상\\n\\n\\n\\n\\n\\n\\n\\n\\n\\n\\n\\n\\n\\n\\n  3:00\\n지금 재생 중\\n\\n\\n\\n\\n\\n\\n\\n\\n\\n\\n\\n\\n\\n\\n\\n\\n\\n\\n\\n\\n            해외에서 먼저 알아본 떡상곡💘: FIFTY FIFTY - Cupid (Twin ver.) [가사/해석/lyrics]\\n          \\n\\n\\n\\n\\n\\n\\n\\n때잉\\n\\n\\n  \\n    때잉\\n  \\n\\n\\n\\n\\n  인증됨\\n\\n\\n\\n•\\n\\n\\n\\n\\n•\\n조회수 517만회\\n3개월 전\\n\\n\\n\\n\\n\\n\\n\\n\\n\\n\\n\\n\\n\\n\\n\\n\\n\\n\\n\\n\\n\\n\\n  4:08\\n지금 재생 중\\n\\n\\n\\n\\n\\n\\n\\n\\n\\n\\n\\n\\n\\n\\n\\n\\n\\n\\n\\n\\n            콜드플레이_비바라비다_댓글모음\\n          \\n\\n\\n\\n\\n\\n\\n\\n비디터ᴠɪᴅɪᴛᴏʀ\\n\\n\\n  \\n    비디터ᴠɪᴅɪᴛᴏʀ\\n  \\n\\n\\n\\n\\n  인증됨\\n\\n\\n\\n•\\n\\n\\n\\n\\n•\\n조회수 200만회\\n2년 전\\n\\n\\n\\n\\n\\n\\n\\n\\n\\n\\n\\n\\n\\n\\n\\n\\n\\n\\n\\n\\n\\n\\n  4:54\\n지금 재생 중\\n\\n\\n\\n\\n\\n\\n\\n\\n\\n\\n\\n\\n\\n\\n\\n\\n\\n\\n\\n\\n            [불후의 명곡] - 잔나비 - Viva La Vida (Fanmade)\\n          \\n\\n\\n\\n\\n\\n\\n\\n음원내줘잉\\n\\n\\n  \\n    음원내줘잉\\n  \\n\\n\\n\\n\\n\\n\\n•\\n\\n\\n\\n\\n•\\n조회수 2.4천회\\n4개월 전\\n\\n\\n\\n\\n\\n\\n\\n\\n\\n\\n\\n\\n\\n\\n\\n\\n\\n\\n\\n\\n\\n\\n  3:28\\n지금 재생 중\\n\\n\\n\\n\\n\\n\\n\\n\\n\\n\\n\\n\\n\\n\\n\\n\\n\\n\\n\\n\\n            위대한 쇼맨 (The Greatest Showman) OST - Never Enough 가사 번역 뮤직비디오\\n          \\n\\n\\n\\n\\n\\n\\n\\n워너뮤직코리아 (Warner Music Korea)\\n\\n\\n  \\n    워너뮤직코리아 (Warner Music Korea)\\n  \\n\\n\\n\\n\\n  인증됨\\n\\n\\n\\n•\\n\\n\\n\\n\\n•\\n조회수 1623만회\\n5년 전\\n\\n\\n\\n\\n\\n\\n\\n\\n\\n\\n\\n\\n\\n\\n\\n\\n\\n\\n\\n\\n\\n\\n  6:12\\n지금 재생 중\\n\\n\\n\\n\\n\\n\\n\\n\\n\\n\\n\\n\\n\\n\\n\\n\\n\\n\\n\\n\\n            Coldplay - The Scientist (Live in Madrid 2011)\\n          \\n\\n\\n\\n\\n\\n\\n\\nColdplay\\n\\n\\n  \\n    Coldplay\\n  \\n\\n\\n\\n\\n  공식 아티스트 채널\\n\\n\\n\\n•\\n\\n\\n\\n\\n•\\n조회수 2.2억회\\n11년 전\\n\\n\\n\\n\\n\\n\\n\\n\\n\\n\\n\\n\\n\\n\\n\\n\\n\\n\\n\\n\\n\\n\\n  4:29\\n지금 재생 중\\n\\n\\n\\n\\n\\n\\n\\n\\n\\n\\n\\n\\n\\n\\n\\n\\n\\n\\n\\n\\n            David Garrett - Viva La Vida\\n          \\n\\n\\n\\n\\n\\n\\n\\ndavidgarrettmusic\\n\\n\\n  \\n    davidgarrettmusic\\n  \\n\\n\\n\\n\\n  공식 아티스트 채널\\n\\n\\n\\n•\\n\\n\\n\\n\\n•\\n조회수 1.2억회\\n10년 전\\n\\n\\n\\n\\n\\n\\n\\n\\n\\n\\n\\n\\n\\n\\n\\n\\n\\n\\n\\n\\n\\n\\n  2:35\\n지금 재생 중\\n\\n\\n\\n\\n\\n\\n\\n\\n\\n\\n\\n\\n\\n\\n\\n\\n\\n\\n\\n\\n            OneRepublic - I Ain’t Worried (From “Top Gun: Maverick”) [Official Music Video]\\n          \\n\\n\\n\\n\\n\\n\\n\\nOneRepublic\\n\\n\\n  \\n    OneRepublic\\n  \\n\\n\\n\\n\\n  공식 아티스트 채널\\n\\n\\n\\n•\\n\\n\\n\\n\\n•\\n조회수 1.9억회\\n1년 전\\n\\n\\n\\n\\n\\n\\n\\n\\n\\n\\n\\n\\n\\n\\n\\n\\n\\n\\n\\n\\n\\n\\n  5:18\\n지금 재생 중\\n\\n\\n\\n\\n\\n\\n\\n\\n\\n\\n\\n\\n\\n\\n\\n\\n\\n\\n\\n\\n            (흥이란 것이 폭발한다↗) NEW 비긴어게인의 ′Viva La Vida′♬ 〈비긴어게인 코리아(beginagainkorea)〉 3회\\n          \\n\\n\\n\\n\\n\\n\\n\\nBeginagain 비긴어게인\\n\\n\\n  \\n    Beginagain 비긴어게인\\n  \\n\\n\\n\\n\\n\\n\\n•\\n\\n\\n\\n\\n•\\n조회수 457만회\\n3년 전\\n\\n\\n\\n\\n\\n\\n\\n\\n\\n\\n\\n\\n\\n\\n\\n\\n\\n\\n\\n\\n\\n\\n  5:13\\n지금 재생 중\\n\\n\\n\\n\\n\\n\\n\\n\\n\\n\\n\\n\\n\\n\\n\\n\\n\\n\\n\\n\\n            잔나비 - Viva La Vida [불후의 명곡 전설을 노래하다 , Immortal Songs 2].20191019\\n          \\n\\n\\n\\n\\n\\n\\n\\nKBS Kpop\\n\\n\\n  \\n    KBS Kpop\\n  \\n\\n\\n\\n\\n\\n\\n•\\n\\n\\n\\n\\n•\\n조회수 294만회\\n3년 전\\n\\n\\n\\n\\n\\n\\n\\n\\n\\n\\n\\n\\n\\n\\n\\n\\n\\n\\n\\n\\n\\n\\n  3:28:59\\n지금 재생 중\\n\\n\\n\\n\\n\\n\\n\\n\\n\\n\\n\\n\\n\\n\\n\\n\\n\\n\\n\\n\\n            산책하기 좋은날엔🌿 적당히 신나는 청량 플리\\n          \\n\\n\\n\\n\\n\\n\\n\\nBlue rain\\n\\n\\n  \\n    Blue rain\\n  \\n\\n\\n\\n\\n  인증됨\\n\\n\\n\\n•\\n\\n\\n\\n\\n•\\n조회수 181만회\\n1년 전\\n\\n\\n\\n\\n\\n\\n\\n\\n\\n\\n\\n\\n\\n\\n\\n\\n\\n\\n\\n\\n\\n\\n  3:31\\n지금 재생 중\\n\\n\\n\\n\\n\\n\\n\\n\\n\\n\\n\\n\\n\\n\\n\\n\\n\\n\\n\\n\\n            ”중요한 것은 꺾이지 않는 마음“ [2022 롤드컵 결승전 버전 뮤직비디오 재편집] Lil Nas X - STAR WALKIN (DRX, T1)\\n          \\n\\n\\n\\n\\n\\n\\n\\nMOV IE LAB\\n\\n\\n  \\n    MOV IE LAB\\n  \\n\\n\\n\\n\\n\\n\\n•\\n\\n\\n\\n\\n•\\n조회수 21만회\\n8개월 전\\n\\n\\n\\n\\n\\n\\n\\n\\n\\n\\n\\n\\n\\n\\n\\n\\n\\n\\n\\n\\n\\n\\n  13:12\\n지금 재생 중\\n\\n\\n\\n\\n\\n\\n\\n\\n\\n\\n\\n\\n\\n\\n\\n\\n\\n\\n\\n\\n            Coldplay\\'s FULL Pepsi Super Bowl 50 Halftime Show feat. Beyoncé & Bruno Mars! | NFL\\n          \\n\\n\\n\\n\\n\\n\\n\\nNFL\\n\\n\\n  \\n    NFL\\n  \\n\\n\\n\\n\\n  인증됨\\n\\n\\n\\n•\\n\\n\\n\\n\\n•\\n조회수 1.2억회\\n7년 전\\n\\n\\n\\n\\n\\n\\n\\n\\n\\n\\n\\n\\n\\n\\n\\n\\n\\n\\n\\n\\n\\n\\n  3:47\\n지금 재생 중\\n\\n\\n\\n\\n\\n\\n\\n\\n\\n\\n\\n\\n\\n\\n\\n\\n\\n\\n\\n\\n            Sia - Unstoppable (Official Video - Live from the Nostalgic For The Present Tour)\\n          \\n\\n\\n\\n\\n\\n\\n\\nSia\\n\\n\\n  \\n    Sia\\n  \\n\\n\\n\\n\\n  공식 아티스트 채널\\n\\n\\n\\n•\\n\\n\\n\\n\\n•\\n조회수 2.2억회\\n1년 전\\n\\n\\n\\n\\n\\n\\n\\n\\n\\n\\n\\n\\n\\n\\n\\n\\n\\n\\n\\n\\n\\n\\n  47:19\\n지금 재생 중\\n\\n\\n\\n\\n\\n\\n\\n\\n\\n\\n\\n\\n\\n\\n\\n\\n\\n\\n\\n\\n            사극풍, 애니메이션 OST 모음 by Roel\\n          \\n\\n\\n\\n\\n\\n\\n\\n로엘Roel\\n\\n\\n  \\n    로엘Roel\\n  \\n\\n\\n\\n\\n\\n\\n•\\n\\n\\n\\n\\n•\\n조회수 1719만회\\n3년 전\\n\\n\\n\\n\\n\\n\\n\\n\\n\\n\\n\\n\\n\\n\\n\\n\\n\\n\\n\\n\\n\\n\\n  1:36:17\\n지금 재생 중\\n\\n\\n\\n\\n\\n\\n\\n\\n\\n\\n\\n\\n\\n\\n\\n\\n\\n\\n\\n\\n            라우브 노래모음 33곡 모두 해석해버리기 PLAYLIST\\n          \\n\\n\\n\\n\\n\\n\\n\\nH녀\\n\\n\\n  \\n    H녀\\n  \\n\\n\\n\\n\\n\\n\\n•\\n\\n\\n\\n\\n•\\n조회수 88만회\\n1년 전\\n\\n\\n\\n\\n\\n\\n\\n\\n\\n\\n\\n\\n\\n\\n\\n\\n\\n\\n\\n\\n\\n\\n  13:43\\n지금 재생 중\\n\\n\\n\\n\\n\\n\\n\\n\\n\\n\\n\\n\\n\\n\\n\\n\\n\\n\\n\\n\\n            ♨핫클립♨ [HD] 순수 보컬과 현악기의 역대급 만남! 하현상 팀 \\'Viva La Vida\\' #슈퍼밴드 #JTBC봐야지\\n          \\n\\n\\n\\n\\n\\n\\n\\nJTBC Voyage\\n\\n\\n  \\n    JTBC Voyage\\n  \\n\\n\\n\\n\\n\\n\\n•\\n\\n\\n\\n\\n•\\n조회수 539만회\\n4년 전\\n\\n\\n\\n\\n\\n\\n\\n\\n\\n\\n\\n\\n\\n\\n\\n\\n\\n\\n\\n\\n\\n\\n  4:25\\n지금 재생 중\\n\\n\\n\\n\\n\\n\\n\\n\\n\\n\\n\\n\\n\\n\\n\\n\\n\\n\\n\\n\\n            그대에게\\n          \\n\\n\\n\\n\\n\\n\\n\\nShin Hae-chul  - Topic\\n\\n\\n  \\n    Shin Hae-chul  - Topic\\n  \\n\\n\\n\\n\\n\\n\\n•\\n\\n\\n\\n\\n•\\n조회수 1082만회\\n3년 전\\n\\n\\n\\n\\n\\n\\n\\n\\n\\n\\n\\n\\n\\n\\n\\n\\n\\n\\n\\n\\n\\n\\n  1:33:17\\n지금 재생 중\\n\\n\\n\\n\\n\\n\\n\\n\\n\\n\\n\\n\\n\\n\\n\\n\\n\\n\\n\\n\\n            𝐏𝐥𝐚𝐲𝐥𝐢𝐬𝐭 듣자마자 설레는 내 취향 호시노겐 노래 모음 | Gen Hoshino Playlist\\n          \\n\\n\\n\\n\\n\\n\\n\\n이따듣기마쓰\\n\\n\\n  \\n    이따듣기마쓰\\n  \\n\\n\\n\\n\\n\\n\\n•\\n\\n\\n\\n\\n•\\n조회수 610회\\n1일 전\\n\\n\\n\\n\\n\\n\\n\\n새 동영상\\n\\n\\n\\n\\n\\n\\n\\n\\n\\n\\n\\n\\n\\n\\n  1:27:01\\n지금 재생 중\\n\\n\\n\\n\\n\\n\\n\\n\\n\\n\\n\\n\\n\\n\\n\\n\\n\\n\\n\\n\\n            [𝐌𝐒 𝐏𝐥𝐚𝐲𝐥𝐢𝐬𝐭] 김민석은 팝송을 찢어.. | 김민석 팝송 커버곡 모음💿\\n          \\n\\n\\n\\n\\n\\n\\n\\n으즌\\n\\n\\n  \\n    으즌\\n  \\n\\n\\n\\n\\n\\n\\n•\\n\\n\\n\\n\\n•\\n조회수 209회\\n7시간 전\\n\\n\\n\\n\\n\\n\\n\\n새 동영상\\n\\n\\n\\n\\n\\n\\n\\n\\n\\n\\n\\n\\n\\n\\n  1:15\\n지금 재생 중\\n\\n\\n\\n\\n\\n\\n\\n\\n\\n\\n\\n\\n\\n\\n\\n\\n\\n\\n\\n\\n            There‘s nothing holdin\\' me back😈 일렉기타 초보 ver.\\n          \\n\\n\\n\\n\\n\\n\\n\\nNandol 난돌\\n\\n\\n  \\n    Nandol 난돌\\n  \\n\\n\\n\\n\\n\\n\\n•\\n\\n\\n\\n\\n•\\n조회수 100회\\n11시간 전\\n\\n\\n\\n\\n\\n\\n\\n새 동영상\\n\\n\\n\\n\\n\\n\\n\\n\\n\\n\\n\\n\\n\\n\\n  4:08\\n지금 재생 중\\n\\n\\n\\n\\n\\n\\n\\n\\n\\n\\n\\n\\n\\n\\n\\n\\n\\n\\n\\n\\n            Coldplay - Viva La Vida (Live In São Paulo)\\n          \\n\\n\\n\\n\\n\\n\\n\\nColdplay\\n\\n\\n  \\n    Coldplay\\n  \\n\\n\\n\\n\\n  공식 아티스트 채널\\n\\n\\n\\n•\\n\\n\\n\\n\\n•\\n조회수 1.5억회\\n4년 전\\n\\n\\n\\n\\n\\n\\n\\n\\n\\n\\n\\n\\n\\n\\n\\n\\n\\n\\n\\n\\n\\n\\n  8:52\\n지금 재생 중\\n\\n\\n\\n\\n\\n\\n\\n\\n\\n\\n\\n\\n\\n\\n\\n\\n\\n\\n\\n\\n            Coldplay - Viva La Vida + Adventure Of A Lifetime @ 2017 Live In Seoul, Korea\\n          \\n\\n\\n\\n\\n\\n\\n\\nBCKdreamriver\\n\\n\\n  \\n    BCKdreamriver\\n  \\n\\n\\n\\n\\n\\n\\n•\\n\\n\\n\\n\\n•\\n조회수 43만회\\n6년 전\\n\\n\\n\\n\\n\\n\\n\\n\\n\\n\\n\\n\\n\\n\\n\\n\\n\\n\\n\\n\\n\\n\\n  3:49\\n지금 재생 중\\n\\n\\n\\n\\n\\n\\n\\n\\n\\n\\n\\n\\n\\n\\n\\n\\n\\n\\n\\n\\n            Coldplay(콜드플레이)__Viva La Vida (Guitar Cover)\\n          \\n\\n\\n\\n\\n\\n\\n\\n봉\\'s Guitar - 초짜기타 채널\\n\\n\\n  \\n    봉\\'s Guitar - 초짜기타 채널\\n  \\n\\n\\n\\n\\n\\n\\n•\\n\\n\\n\\n\\n•\\n조회수 1.6천회\\n8개월 전\\n\\n\\n\\n\\n\\n\\n\\n\\n\\n\\n\\n\\n\\n\\n\\n\\n\\n\\n\\n\\n\\n\\n  2:52\\n지금 재생 중\\n\\n\\n\\n\\n\\n\\n\\n\\n\\n\\n\\n\\n\\n\\n\\n\\n\\n\\n\\n\\n            김하성 \\'시즌 11호포\\' 작렬…홈런 포함 멀티히트 #SPOTIME\\n          \\n\\n\\n\\n\\n\\n\\n\\n스포타임\\n\\n\\n  \\n    스포타임\\n  \\n\\n\\n\\n\\n  인증됨\\n\\n\\n\\n•\\n\\n\\n\\n\\n•\\n조회수 9.1만회\\n40분 전\\n\\n\\n\\n\\n\\n\\n\\n새 동영상\\n\\n\\n\\n\\n\\n\\n\\n\\n\\n\\n\\n\\n\\n\\n  3:23\\n지금 재생 중\\n\\n\\n\\n\\n\\n\\n\\n\\n\\n\\n\\n\\n\\n\\n\\n\\n\\n\\n\\n\\n            Charlie Puth - Dangerously [Official Video]\\n          \\n\\n\\n\\n\\n\\n\\n\\nCharlie Puth\\n\\n\\n  \\n    Charlie Puth\\n  \\n\\n\\n\\n\\n  공식 아티스트 채널\\n\\n\\n\\n•\\n\\n\\n\\n\\n•\\n조회수 1.4억회\\n6년 전\\n\\n\\n\\n\\n\\n\\n\\n\\n\\n\\n\\n\\n\\n\\n\\n\\n\\n\\n\\n\\n\\n\\n  5:10\\n지금 재생 중\\n\\n\\n\\n\\n\\n\\n\\n\\n\\n\\n\\n\\n\\n\\n\\n\\n\\n\\n\\n\\n            Viva La Vida (Viva La Vida)\\n          \\n\\n\\n\\n\\n\\n\\n\\n하현상 HA HYUN SANG\\n\\n\\n  \\n    하현상 HA HYUN SANG\\n  \\n\\n\\n\\n\\n  공식 아티스트 채널\\n\\n\\n\\n•\\n\\n\\n\\n\\n•\\n조회수 19만회\\n9개월 전\\n\\n\\n\\n\\n\\n\\n\\n\\n\\n\\n\\n\\n\\n\\n\\n\\n\\n\\n\\n\\n\\n\\n  3:50\\n지금 재생 중\\n\\n\\n\\n\\n\\n\\n\\n\\n\\n\\n\\n\\n\\n\\n\\n\\n\\n\\n\\n\\n            X Ambassadors - HEY CHILD (Official Video)\\n          \\n\\n\\n\\n\\n\\n\\n\\nX Ambassadors\\n\\n\\n  \\n    X Ambassadors\\n  \\n\\n\\n\\n\\n  공식 아티스트 채널\\n\\n\\n\\n•\\n\\n\\n\\n\\n•\\n조회수 1717만회\\n4년 전\\n\\n\\n\\n\\n\\n\\n\\n\\n\\n\\n\\n\\n\\n\\n\\n\\n\\n\\n\\n\\n\\n\\n  2:08:32\\n지금 재생 중\\n\\n\\n\\n\\n\\n\\n\\n\\n\\n\\n\\n\\n\\n\\n\\n\\n\\n\\n\\n\\n            [𝐏𝐥𝐚𝐲𝐥𝐢𝐬𝐭] 내가 들으려고 만든 집중 잘 되는 국힙 모음(2시간)\\n          \\n\\n\\n\\n\\n\\n\\n\\n이지밍\\n\\n\\n  \\n    이지밍\\n  \\n\\n\\n\\n\\n\\n\\n•\\n\\n\\n\\n\\n•\\n조회수 55만회\\n5개월 전\\n\\n\\n\\n\\n\\n\\n\\n\\n\\n\\n\\n\\n\\n\\n\\n\\n\\n\\n\\n\\n\\n\\n  1:39:51\\n지금 재생 중\\n\\n\\n\\n\\n\\n\\n\\n\\n\\n\\n\\n\\n\\n\\n\\n\\n\\n\\n\\n\\n            230618 브루노 마스 내한공연 Bruno Mars 2023 Full Concert @ Seoul, Korea\\n          \\n\\n\\n\\n\\n\\n\\n\\nConTube\\n\\n\\n  \\n    ConTube\\n  \\n\\n\\n\\n\\n\\n\\n•\\n\\n\\n\\n\\n•\\n조회수 216만회\\n4주 전\\n\\n\\n\\n\\n\\n\\n\\n\\n\\n\\n\\n\\n\\n\\n\\n\\n\\n\\n\\n\\n\\n\\n  2:02:32\\n지금 재생 중\\n\\n\\n\\n\\n\\n\\n\\n\\n\\n\\n\\n\\n\\n\\n\\n\\n\\n\\n\\n\\n            [playlist] 딱 요즘 듣는 잔잔한 인디들 | 카더가든, 잔나비, 검정치마, 혁오, 짙은, 데이먼스이어\\n          \\n\\n\\n\\n\\n\\n\\n\\n오퓨쳐Five future\\n\\n\\n  \\n    오퓨쳐Five future\\n  \\n\\n\\n\\n\\n\\n\\n•\\n\\n\\n\\n\\n•\\n조회수 975만회\\n1년 전\\n\\n\\n\\n\\n\\n\\n\\n\\n\\n\\n\\n\\n\\n\\n\\n\\n\\n\\n\\n\\n\\n\\n\\n\\n\\n지금 재생 중\\n\\n\\n\\n\\n\\n\\n\\n\\n\\n\\n\\n\\n\\n\\n\\n\\n\\n\\n\\n\\n            믹스 - 콜드플레이\\n          \\n\\n\\n\\n\\n\\n\\n콜드플레이, 체인스모커스, 트웬티 원 파일럿츠 등\\n\\n\\n  \\n    콜드플레이, 체인스모커스, 트웬티 원 파일럿츠 등\\n  \\n\\n\\n\\n\\n\\n\\n•\\n\\n\\n\\n\\n•\\n\\n\\n\\n\\n\\n\\n\\n\\n\\n\\n\\n\\n\\n\\n\\n\\n\\n\\n  4:25\\n지금 재생 중\\n\\n\\n\\n\\n\\n\\n\\n\\n\\n\\n\\n\\n\\n\\n\\n\\n\\n\\n\\n\\n            Gregorian \"Viva La Vida\" (Official Music Video) - Album out now!\\n          \\n\\n\\n\\n\\n\\n\\n\\nearMUSIC\\n\\n\\n  \\n    earMUSIC\\n  \\n\\n\\n\\n\\n  인증됨\\n\\n\\n\\n•\\n\\n\\n\\n\\n•\\n조회수 1063만회\\n3년 전\\n\\n\\n\\n\\n\\n\\n\\n\\n\\n\\n\\n\\n\\n\\n\\n\\n\\n\\n\\n\\n\\n\\n  3:25\\n지금 재생 중\\n\\n\\n\\n\\n\\n\\n\\n\\n\\n\\n\\n\\n\\n\\n\\n\\n\\n\\n\\n\\n            Tiny Riot\\n          \\n\\n\\n\\n\\n\\n\\n\\nSam Ryder\\n\\n\\n  \\n    Sam Ryder\\n  \\n\\n\\n\\n\\n  공식 아티스트 채널\\n\\n\\n\\n•\\n\\n\\n\\n\\n•\\n조회수 2091만회\\n1년 전\\n\\n\\n\\n\\n\\n\\n\\n\\n\\n\\n\\n\\n\\n\\n\\n\\n\\n\\n\\n\\n\\n\\n  3:57\\n지금 재생 중\\n\\n\\n\\n\\n\\n\\n\\n\\n\\n\\n\\n\\n\\n\\n\\n\\n\\n\\n\\n\\n            TONES AND I - DANCE MONKEY (OFFICIAL VIDEO)\\n          \\n\\n\\n\\n\\n\\n\\n\\nTones And I\\n\\n\\n  \\n    Tones And I\\n  \\n\\n\\n\\n\\n  공식 아티스트 채널\\n\\n\\n\\n•\\n\\n\\n\\n\\n•\\n조회수 20억회\\n4년 전\\n\\n\\n\\n\\n\\n\\n\\n\\n\\n\\n\\n\\n\\n\\n\\n\\n\\n\\n\\n\\n\\n\\n  3:30\\n지금 재생 중\\n\\n\\n\\n\\n\\n\\n\\n\\n\\n\\n\\n\\n\\n\\n\\n\\n\\n\\n\\n\\n            💯 허스키 목소리 + 영국 발음, 𝐓𝐨𝐦 𝐆𝐫𝐞𝐧𝐧𝐚𝐧 - 𝐋𝐢𝐭𝐭𝐥𝐞 𝐁𝐢𝐭 𝐨𝐟 𝐋𝐨𝐯𝐞 [가사/해석/자막/lyrics]\\n          \\n\\n\\n\\n\\n\\n\\n\\n기몽초\\n\\n\\n  \\n    기몽초\\n  \\n\\n\\n\\n\\n  인증됨\\n\\n\\n\\n•\\n\\n\\n\\n\\n•\\n조회수 271만회\\n2년 전\\n\\n\\n\\n\\n\\n\\n\\n\\n\\n\\n\\n\\n\\n\\n\\n\\n\\n\\n\\n\\n\\n\\n  6:39\\n지금 재생 중\\n\\n\\n\\n\\n\\n\\n\\n\\n\\n\\n\\n\\n\\n\\n\\n\\n\\n\\n\\n\\n            Imagine Dragons - Radioactive (Live At The Joint)\\n          \\n\\n\\n\\n\\n\\n\\n\\nImagineDragons\\n\\n\\n  \\n    ImagineDragons\\n  \\n\\n\\n\\n\\n  공식 아티스트 채널\\n\\n\\n\\n•\\n\\n\\n\\n\\n•\\n조회수 3799만회\\n10년 전\\n\\n\\n\\n\\n\\n\\n\\n\\n\\n\\n\\n\\n\\n\\n\\n\\n\\n\\n\\n\\n\\n\\n  4:49\\n지금 재생 중\\n\\n\\n\\n\\n\\n\\n\\n\\n\\n\\n\\n\\n\\n\\n\\n\\n\\n\\n\\n\\n            Coldplay - A Sky Full Of Stars (Live at River Plate)\\n          \\n\\n\\n\\n\\n\\n\\n\\nColdplay\\n\\n\\n  \\n    Coldplay\\n  \\n\\n\\n\\n\\n  공식 아티스트 채널\\n\\n\\n\\n•\\n\\n\\n\\n\\n•\\n조회수 2851만회\\n3개월 전\\n\\n\\n\\n\\n\\n\\n\\n\\n\\n\\n\\n\\n\\n\\n\\n\\n\\n\\n\\n\\n\\n\\n  1:01:37\\n지금 재생 중\\n\\n\\n\\n\\n\\n\\n\\n\\n\\n\\n\\n\\n\\n\\n\\n\\n\\n\\n\\n\\n            ROSÉ - Viva La Vida (1 HOUR LOOP) Lyrics | 1시간\\n          \\n\\n\\n\\n\\n\\n\\n\\n1 Høur\\n\\n\\n  \\n    1 Høur\\n  \\n\\n\\n\\n\\n\\n\\n•\\n\\n\\n\\n\\n•\\n조회수 9.4만회\\n1년 전\\n\\n\\n\\n\\n\\n\\n\\n\\n\\n\\n\\n\\n\\n\\n\\n\\n\\n\\n\\n\\n\\n\\n  4:21\\n지금 재생 중\\n\\n\\n\\n\\n\\n\\n\\n\\n\\n\\n\\n\\n\\n\\n\\n\\n\\n\\n\\n\\n            The Chainsmokers & Coldplay - Something Just Like This (Live at the BRITs)\\n          \\n\\n\\n\\n\\n\\n\\n\\nThe Chainsmokers\\n\\n\\n  \\n    The Chainsmokers\\n  \\n\\n\\n\\n\\n  공식 아티스트 채널\\n\\n\\n\\n•\\n\\n\\n\\n\\n•\\n조회수 1억회\\n6년 전\\n\\n\\n\\n\\n\\n\\n\\n\\n\\n\\n\\n\\n\\n\\n\\n\\n\\n\\n\\n\\n\\n\\n  3:57:41\\n지금 재생 중\\n\\n\\n\\n\\n\\n\\n\\n\\n\\n\\n\\n\\n\\n\\n\\n\\n\\n\\n\\n\\n            𝐏𝐥𝐚𝐲𝐥𝐢𝐬𝐭 2000년대 발라드 명곡 BEST 40곡 - 몽글몽글해지는 2000~2010년 추억의 띵곡모음(연속듣기💽) - 발라드 노래모음 | KPOP (BALLAD)\\n          \\n\\n\\n\\n\\n\\n\\n\\n오래된 음악 가게 \\n\\n\\n  \\n    오래된 음악 가게 \\n  \\n\\n\\n\\n\\n\\n\\n•\\n\\n\\n\\n\\n•\\n조회수 86회\\n5시간 전\\n\\n\\n\\n\\n\\n\\n\\n새 동영상\\n\\n\\n\\n\\n\\n\\n\\n\\n\\n\\n\\n\\n\\n\\n  3:54\\n지금 재생 중\\n\\n\\n\\n\\n\\n\\n\\n\\n\\n\\n\\n\\n\\n\\n\\n\\n\\n\\n\\n\\n            콜드플레이(Coldplay): Viva la vida - 20170416 떼창의 끝\\n          \\n\\n\\n\\n\\n\\n\\n\\n사브레 Sable\\n\\n\\n  \\n    사브레 Sable\\n  \\n\\n\\n\\n\\n\\n\\n•\\n\\n\\n\\n\\n•\\n조회수 340만회\\n6년 전\\n\\n\\n\\n\\n\\n\\n\\n\\n\\n\\n\\n\\n\\n\\n\\n\\n\\n\\n\\n\\n\\n\\n  4:41\\n지금 재생 중\\n\\n\\n\\n\\n\\n\\n\\n\\n\\n\\n\\n\\n\\n\\n\\n\\n\\n\\n\\n\\n            Coldplay - Everglow (Live at Belasco Theater)\\n          \\n\\n\\n\\n\\n\\n\\n\\nColdplay\\n\\n\\n  \\n    Coldplay\\n  \\n\\n\\n\\n\\n  공식 아티스트 채널\\n\\n\\n\\n•\\n\\n\\n\\n\\n•\\n조회수 5085만회\\n7년 전\\n\\n\\n\\n\\n\\n\\n\\n\\n\\n\\n\\n\\n\\n\\n\\n\\n\\n\\n\\n\\n\\n\\n  3:59\\n지금 재생 중\\n\\n\\n\\n\\n\\n\\n\\n\\n\\n\\n\\n\\n\\n\\n\\n\\n\\n\\n\\n\\n            coldplay - viva la vida 밴드 공연\\n          \\n\\n\\n\\n\\n\\n\\n\\nSeong-ho Choi\\n\\n\\n  \\n    Seong-ho Choi\\n  \\n\\n\\n\\n\\n\\n\\n•\\n\\n\\n\\n\\n•\\n조회수 302회\\n7개월 전\\n\\n\\n\\n\\n\\n\\n\\n\\n\\n\\n\\n\\n\\n\\n\\n\\n\\n\\n\\n\\n\\n\\n  0:49\\n지금 재생 중\\n\\n\\n\\n\\n\\n\\n\\n\\n\\n\\n\\n\\n\\n\\n\\n\\n\\n\\n\\n\\n            죽기 전에 꼭 갔어야 했던 레전드 떼창공연\\n          \\n\\n\\n\\n\\n\\n\\n\\n떼창 플레이 리스트\\n\\n\\n  \\n    떼창 플레이 리스트\\n  \\n\\n\\n\\n\\n  인증됨\\n\\n\\n\\n•\\n\\n\\n\\n\\n•\\n조회수 302만회\\n1년 전\\n\\n\\n\\n\\n\\n\\n\\n\\n\\n\\n\\n\\n\\n\\n\\n\\n\\n\\n\\n\\n\\n\\n  5:41\\n지금 재생 중\\n\\n\\n\\n\\n\\n\\n\\n\\n\\n\\n\\n\\n\\n\\n\\n\\n\\n\\n\\n\\n            진 (Jin) \\'The Astronaut\\' (with Coldplay) @ Coldplay’s Music Of The Spheres Tour in Buenos Aires\\n          \\n\\n\\n\\n\\n\\n\\n\\nBANGTANTV\\n\\n\\n  \\n    BANGTANTV\\n  \\n\\n\\n\\n\\n  공식 아티스트 채널\\n\\n\\n\\n•\\n\\n\\n\\n\\n•\\n조회수 2312만회\\n8개월 전\\n\\n\\n\\n\\n\\n\\n\\n\\n\\n\\n\\n\\n\\n\\n\\n\\n\\n\\n\\n\\n\\n\\n  4:48\\n지금 재생 중\\n\\n\\n\\n\\n\\n\\n\\n\\n\\n\\n\\n\\n\\n\\n\\n\\n\\n\\n\\n\\n            Christina Perri - A Thousand Years [Official Music Video]\\n          \\n\\n\\n\\n\\n\\n\\n\\nChristina Perri\\n\\n\\n  \\n    Christina Perri\\n  \\n\\n\\n\\n\\n  공식 아티스트 채널\\n\\n\\n\\n•\\n\\n\\n\\n\\n•\\n조회수 22억회\\n11년 전\\n\\n\\n\\n\\n\\n\\n\\n\\n\\n\\n\\n\\n\\n\\n\\n\\n\\n\\n\\n\\n\\n\\n  3:55\\n지금 재생 중\\n\\n\\n\\n\\n\\n\\n\\n\\n\\n\\n\\n\\n\\n\\n\\n\\n\\n\\n\\n\\n            Bruno Mars - When I Was Your Man (Official Music Video)\\n          \\n\\n\\n\\n\\n\\n\\n\\nBruno Mars\\n\\n\\n  \\n    Bruno Mars\\n  \\n\\n\\n\\n\\n  공식 아티스트 채널\\n\\n\\n\\n•\\n\\n\\n\\n\\n•\\n조회수 12억회\\n10년 전\\n\\n\\n\\n\\n\\n\\n\\n\\n\\n\\n\\n\\n\\n\\n\\n\\n\\n\\n\\n\\n\\n\\n  4:40\\n지금 재생 중\\n\\n\\n\\n\\n\\n\\n\\n\\n\\n\\n\\n\\n\\n\\n\\n\\n\\n\\n\\n\\n            Ed Sheeran - Perfect (Official Music Video)\\n          \\n\\n\\n\\n\\n\\n\\n\\nEd Sheeran\\n\\n\\n  \\n    Ed Sheeran\\n  \\n\\n\\n\\n\\n  공식 아티스트 채널\\n\\n\\n\\n•\\n\\n\\n\\n\\n•\\n조회수 34억회\\n5년 전\\n\\n\\n\\n\\n\\n\\n\\n\\n\\n\\n\\n\\n\\n\\n\\n\\n\\n\\n\\n\\n\\n\\n  3:09\\n지금 재생 중\\n\\n\\n\\n\\n\\n\\n\\n\\n\\n\\n\\n\\n\\n\\n\\n\\n\\n\\n\\n\\n            Fire on Up\\n          \\n\\n\\n\\n\\n\\n\\n\\nPaper Kings - Topic\\n\\n\\n  \\n    Paper Kings - Topic\\n  \\n\\n\\n\\n\\n\\n\\n•\\n\\n\\n\\n\\n•\\n조회수 248만회\\n9개월 전\\n\\n\\n\\n\\n\\n\\n\\n\\n\\n\\n\\n\\n\\n\\n\\n\\n\\n\\n\\n\\n\\n\\n  4:32\\n지금 재생 중\\n\\n\\n\\n\\n\\n\\n\\n\\n\\n\\n\\n\\n\\n\\n\\n\\n\\n\\n\\n\\n            Puff Daddy [feat. Faith Evans & 112] - I\\'ll Be Missing You (Official Music Video)\\n          \\n\\n\\n\\n\\n\\n\\n\\nBad Boy Entertainment\\n\\n\\n  \\n    Bad Boy Entertainment\\n  \\n\\n\\n\\n\\n\\n\\n•\\n\\n\\n\\n\\n•\\n조회수 7983만회\\n7년 전\\n\\n\\n\\n\\n\\n\\n\\n\\n\\n\\n\\n\\n\\n\\n\\n\\n\\n\\n\\n\\n\\n\\n  1:00:01\\n지금 재생 중\\n\\n\\n\\n\\n\\n\\n\\n\\n\\n\\n\\n\\n\\n\\n\\n\\n\\n\\n\\n\\n            [공부/명상 노래] 비 오는 날 듣기 좋은 노래 (Far away) (검은화면)\\n          \\n\\n\\n\\n\\n\\n\\n\\n구릉요새\\n\\n\\n  \\n    구릉요새\\n  \\n\\n\\n\\n\\n\\n\\n•\\n\\n\\n\\n\\n•\\n조회수 20회\\n5시간 전\\n\\n\\n\\n\\n\\n\\n\\n새 동영상\\n\\n\\n\\n\\n\\n\\n\\n\\n\\n\\n\\n\\n\\n\\n  4:41\\n지금 재생 중\\n\\n\\n\\n\\n\\n\\n\\n\\n\\n\\n\\n\\n\\n\\n\\n\\n\\n\\n\\n\\n            KCM-\"미친 바보라고 불러도\"《live ver.》\\n          \\n\\n\\n\\n\\n\\n\\n\\nKCM\\n\\n\\n  \\n    KCM\\n  \\n\\n\\n\\n\\n\\n\\n•\\n\\n\\n\\n\\n•\\n조회수 3.1천회\\n5일 전\\n\\n\\n\\n\\n\\n\\n\\n새 동영상\\n\\n\\n\\n\\n\\n\\n\\n\\n\\n\\n\\n\\n\\n\\n  2:32\\n지금 재생 중\\n\\n\\n\\n\\n\\n\\n\\n\\n\\n\\n\\n\\n\\n\\n\\n\\n\\n\\n\\n\\n            E SENS - What The Hell (Official Video)\\n          \\n\\n\\n\\n\\n\\n\\n\\nE SENS\\n\\n\\n  \\n    E SENS\\n  \\n\\n\\n\\n\\n  공식 아티스트 채널\\n\\n\\n\\n•\\n\\n\\n\\n\\n•\\n조회수 28만회\\n5일 전\\n\\n\\n\\n\\n\\n\\n\\n새 동영상\\n\\n\\n\\n\\n\\n\\n\\n\\n\\n\\n\\n\\n\\n\\n  10:51\\n지금 재생 중\\n\\n\\n\\n\\n\\n\\n\\n\\n\\n\\n\\n\\n\\n\\n\\n\\n\\n\\n\\n\\n            역대급 파워 슈팅(?) 조선의 4번타자 이대호가 풀스윙한 프리킥을 과연 막을 수 있을까? (이걸 어떻게 막아…?)\\n          \\n\\n\\n\\n\\n\\n\\n\\n슛포러브\\n\\n\\n  \\n    슛포러브\\n  \\n\\n\\n\\n\\n  인증됨\\n\\n\\n\\n•\\n\\n\\n\\n\\n•\\n조회수 142만회\\n2주 전\\n\\n\\n\\n\\n\\n\\n\\n\\n\\n\\n\\n\\n\\n\\n\\n\\n\\n\\n\\n\\n\\n\\n  4:00\\n지금 재생 중\\n\\n\\n\\n\\n\\n\\n\\n\\n\\n\\n\\n\\n\\n\\n\\n\\n\\n\\n\\n\\n            스트레이 (The Stray) – 그 계절에 머물게 MV\\n          \\n\\n\\n\\n\\n\\n\\n\\n스트레이 The Stray\\n\\n\\n  \\n    스트레이 The Stray\\n  \\n\\n\\n\\n\\n\\n\\n•\\n\\n\\n\\n\\n•\\n조회수 9.4천회\\n7일 전\\n\\n\\n\\n\\n\\n\\n\\n\\n\\n\\n\\n\\n\\n\\n\\n\\n\\n\\n\\n\\n\\n\\n  0:55\\n지금 재생 중\\n\\n\\n\\n\\n\\n\\n\\n\\n\\n\\n\\n\\n\\n\\n\\n\\n\\n\\n\\n\\n            그런 일은 [방구석 노래방 cover]\\n          \\n\\n\\n\\n\\n\\n\\n\\n스하곰\\n\\n\\n  \\n    스하곰\\n  \\n\\n\\n\\n\\n\\n\\n•\\n\\n\\n\\n\\n•\\n조회수 126회\\n4일 전\\n\\n\\n\\n\\n\\n\\n\\n새 동영상\\n\\n\\n\\n\\n\\n\\n\\n\\n\\n\\n\\n\\n\\n\\n  3:28\\n지금 재생 중\\n\\n\\n\\n\\n\\n\\n\\n\\n\\n\\n\\n\\n\\n\\n\\n\\n\\n\\n\\n\\n            윤딴딴 - 여름을 좋아하는 이유  | 야외녹음실 | Beyond the Studio  |  YunDDanDDan - Korea summer life\\n          \\n\\n\\n\\n\\n\\n\\n\\n1theK Live - 원더케이 라이브\\n\\n\\n  \\n    1theK Live - 원더케이 라이브\\n  \\n\\n\\n\\n\\n  인증됨\\n\\n\\n\\n•\\n\\n\\n\\n\\n•\\n조회수 14만회\\n6일 전\\n\\n\\n\\n\\n\\n\\n\\n새 동영상\\n\\n\\n\\n\\n\\n\\n\\n\\n\\n\\n\\n\\n더보기\\n\\n\\n\\n\\n\\n\\n\\n\\n\\n\\n\\n동영상 중단 현상이 발생합니까?\\n\\n\\n원인 알아보기\\n\\n\\n\\n\\n\\n\\n\\n\\n\\n\\n\\n\\n\\n\\n\\n\\n\\n\\n\\n\\n\\n\\n\\n\\n\\n\\n\\n\\n\\n\\n\\n\\n\\n\\n\\n\\n\\n\\n\\n\\n\\n\\n\\n\\n\\n\\n\\n'"
      ]
     },
     "execution_count": 11,
     "metadata": {},
     "output_type": "execute_result"
    }
   ],
   "source": [
    "soup.get_text()"
   ]
  },
  {
   "cell_type": "code",
   "execution_count": 16,
   "id": "f099d013",
   "metadata": {},
   "outputs": [
    {
     "name": "stdout",
     "output_type": "stream",
     "text": [
      "1266 1266\n"
     ]
    }
   ],
   "source": [
    "# 파싱 - id, 내용\n",
    "ids = soup.select(\"#author-text > span\")\n",
    "contents = soup.select(\"#content-text\")\n",
    "\n",
    "print(len(ids),len(contents))"
   ]
  },
  {
   "cell_type": "code",
   "execution_count": 18,
   "id": "e8a45eab",
   "metadata": {},
   "outputs": [],
   "source": [
    "# 태그 제거\n",
    "author_new = []\n",
    "contents_new = []\n",
    "\n",
    "for i in range(len(ids)):\n",
    "    # 작성자 가져오기\n",
    "    author = ids[i].text\n",
    "    author = author.replace(\"\\n\",\"\")\n",
    "    author = author.replace(\"\\t\",\"\")\n",
    "    author = author.replace(\"      \",\" \")\n",
    "    author_new.append(author)\n",
    "\n",
    "    # 댓글 내용 가져오기\n",
    "    content = contents[i].text\n",
    "    content = content.replace(\"\\n\",\"\")\n",
    "    content = content.replace(\"\\t\",\"\")\n",
    "    content = content.replace(\"      \",\" \")\n",
    "    contents_new.append(content)"
   ]
  },
  {
   "cell_type": "code",
   "execution_count": 20,
   "id": "0dad9508",
   "metadata": {},
   "outputs": [
    {
     "data": {
      "text/html": [
       "<div>\n",
       "<style scoped>\n",
       "    .dataframe tbody tr th:only-of-type {\n",
       "        vertical-align: middle;\n",
       "    }\n",
       "\n",
       "    .dataframe tbody tr th {\n",
       "        vertical-align: top;\n",
       "    }\n",
       "\n",
       "    .dataframe thead th {\n",
       "        text-align: right;\n",
       "    }\n",
       "</style>\n",
       "<table border=\"1\" class=\"dataframe\">\n",
       "  <thead>\n",
       "    <tr style=\"text-align: right;\">\n",
       "      <th></th>\n",
       "      <th>author</th>\n",
       "      <th>comment</th>\n",
       "    </tr>\n",
       "  </thead>\n",
       "  <tbody>\n",
       "    <tr>\n",
       "      <th>0</th>\n",
       "      <td>@user-vj4lt5vu2r</td>\n",
       "      <td>\"성공한 사람에게는 추억을\"\"성공할려는 자에게는 용기를\"</td>\n",
       "    </tr>\n",
       "    <tr>\n",
       "      <th>1</th>\n",
       "      <td>@Jerjeon</td>\n",
       "      <td>와 진짜 영화 한장면 넣어놓은거 같음..전율이 미쳤음...와...소름돋는다</td>\n",
       "    </tr>\n",
       "    <tr>\n",
       "      <th>2</th>\n",
       "      <td>@user-yz5ti1wp3u</td>\n",
       "      <td>데뷔할 때만 해도 20대였던 크리스와 멤버들..어느덧 벌써 40이 넘어가셨네..진짜...</td>\n",
       "    </tr>\n",
       "    <tr>\n",
       "      <th>3</th>\n",
       "      <td>@user-hd8vz7ww7w</td>\n",
       "      <td>진짜 들을 때마다 매순간 빠짐없이 벅차오르는 개미친 노래 .., ㄹㅇ 죽기 전에는 ...</td>\n",
       "    </tr>\n",
       "    <tr>\n",
       "      <th>4</th>\n",
       "      <td>@qjsdurwhk</td>\n",
       "      <td>10년 넘게 들어도 질리지 않는 명곡...</td>\n",
       "    </tr>\n",
       "  </tbody>\n",
       "</table>\n",
       "</div>"
      ],
      "text/plain": [
       "                   author                                            comment\n",
       "0      @user-vj4lt5vu2r                      \"성공한 사람에게는 추억을\"\"성공할려는 자에게는 용기를\"\n",
       "1              @Jerjeon            와 진짜 영화 한장면 넣어놓은거 같음..전율이 미쳤음...와...소름돋는다\n",
       "2      @user-yz5ti1wp3u    데뷔할 때만 해도 20대였던 크리스와 멤버들..어느덧 벌써 40이 넘어가셨네..진짜...\n",
       "3      @user-hd8vz7ww7w    진짜 들을 때마다 매순간 빠짐없이 벅차오르는 개미친 노래 .., ㄹㅇ 죽기 전에는 ...\n",
       "4            @qjsdurwhk                              10년 넘게 들어도 질리지 않는 명곡..."
      ]
     },
     "execution_count": 20,
     "metadata": {},
     "output_type": "execute_result"
    }
   ],
   "source": [
    "df = pd.DataFrame({\"author\":author_new,\"comment\":contents_new})\n",
    "df.head()"
   ]
  },
  {
   "cell_type": "code",
   "execution_count": null,
   "id": "864ecd8d",
   "metadata": {},
   "outputs": [],
   "source": [
    "df.to_csv(\"./youtube.csv\", index=False)"
   ]
  },
  {
   "attachments": {},
   "cell_type": "markdown",
   "id": "6a35348d",
   "metadata": {},
   "source": [
    "#### [참고] 전체 스크롤의 크기 확인하기"
   ]
  },
  {
   "cell_type": "code",
   "execution_count": 8,
   "id": "54de3efa",
   "metadata": {},
   "outputs": [
    {
     "name": "stdout",
     "output_type": "stream",
     "text": [
      "body_scrollHeight 0\n",
      "documentElement_scrollHeight 2192\n"
     ]
    }
   ],
   "source": [
    "# body 태그의 높이를 가져온다.\n",
    "height = driver.execute_script(\"return document.body.scrollHeight\")\n",
    "print(\"body_scrollHeight\", height)\n",
    "\n",
    "# html 태크의 높이를 가져온다.\n",
    "doc_height = driver.execute_script(\"return document.documentElement.scrollHeight\")\n",
    "print(\"documentElement_scrollHeight\", doc_height)"
   ]
  },
  {
   "cell_type": "code",
   "execution_count": null,
   "id": "2524f7cc",
   "metadata": {},
   "outputs": [],
   "source": []
  },
  {
   "cell_type": "code",
   "execution_count": null,
   "id": "501cbf8c",
   "metadata": {},
   "outputs": [],
   "source": []
  },
  {
   "cell_type": "code",
   "execution_count": null,
   "id": "e8e185f8",
   "metadata": {},
   "outputs": [],
   "source": []
  },
  {
   "cell_type": "code",
   "execution_count": null,
   "id": "31631591",
   "metadata": {},
   "outputs": [],
   "source": []
  },
  {
   "cell_type": "code",
   "execution_count": null,
   "id": "225690a1",
   "metadata": {},
   "outputs": [],
   "source": []
  },
  {
   "cell_type": "code",
   "execution_count": null,
   "id": "ee050309",
   "metadata": {},
   "outputs": [],
   "source": []
  },
  {
   "cell_type": "code",
   "execution_count": null,
   "id": "e6ea32ef",
   "metadata": {},
   "outputs": [],
   "source": []
  },
  {
   "cell_type": "code",
   "execution_count": null,
   "id": "0852d4bb",
   "metadata": {},
   "outputs": [],
   "source": []
  }
 ],
 "metadata": {
  "kernelspec": {
   "display_name": "Python 3 (ipykernel)",
   "language": "python",
   "name": "python3"
  },
  "language_info": {
   "codemirror_mode": {
    "name": "ipython",
    "version": 3
   },
   "file_extension": ".py",
   "mimetype": "text/x-python",
   "name": "python",
   "nbconvert_exporter": "python",
   "pygments_lexer": "ipython3",
   "version": "3.11.4"
  }
 },
 "nbformat": 4,
 "nbformat_minor": 5
}
