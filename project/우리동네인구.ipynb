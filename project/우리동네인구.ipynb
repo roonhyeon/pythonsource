{
 "cells": [
  {
   "cell_type": "code",
   "execution_count": 41,
   "metadata": {},
   "outputs": [],
   "source": [
    "import pandas as pd\n",
    "import matplotlib.pyplot as plt"
   ]
  },
  {
   "cell_type": "code",
   "execution_count": 42,
   "metadata": {},
   "outputs": [],
   "source": [
    "plt.rcParams[\"font.family\"]=\"Malgun Gothic\"\n",
    "plt.rcParams[\"axes.unicode_minus\"] = False"
   ]
  },
  {
   "cell_type": "code",
   "execution_count": 43,
   "metadata": {},
   "outputs": [],
   "source": [
    "# warnings: 함수를 현재는 지원하나 나중에 삭제 시 경고 메세지가 발생\n",
    "import warnings\n",
    "warnings.simplefilter(\"ignore\")"
   ]
  },
  {
   "cell_type": "code",
   "execution_count": 44,
   "metadata": {},
   "outputs": [
    {
     "data": {
      "text/html": [
       "<div>\n",
       "<style scoped>\n",
       "    .dataframe tbody tr th:only-of-type {\n",
       "        vertical-align: middle;\n",
       "    }\n",
       "\n",
       "    .dataframe tbody tr th {\n",
       "        vertical-align: top;\n",
       "    }\n",
       "\n",
       "    .dataframe thead th {\n",
       "        text-align: right;\n",
       "    }\n",
       "</style>\n",
       "<table border=\"1\" class=\"dataframe\">\n",
       "  <thead>\n",
       "    <tr style=\"text-align: right;\">\n",
       "      <th></th>\n",
       "      <th>행정구역</th>\n",
       "      <th>2023년06월_계_총인구수</th>\n",
       "      <th>2023년06월_계_연령구간인구수</th>\n",
       "      <th>2023년06월_계_0~9세</th>\n",
       "      <th>2023년06월_계_10~19세</th>\n",
       "      <th>2023년06월_계_20~29세</th>\n",
       "      <th>2023년06월_계_30~39세</th>\n",
       "      <th>2023년06월_계_40~49세</th>\n",
       "      <th>2023년06월_계_50~59세</th>\n",
       "      <th>2023년06월_계_60~69세</th>\n",
       "      <th>2023년06월_계_70~79세</th>\n",
       "      <th>2023년06월_계_80~89세</th>\n",
       "      <th>2023년06월_계_90~99세</th>\n",
       "      <th>2023년06월_계_100세 이상</th>\n",
       "    </tr>\n",
       "  </thead>\n",
       "  <tbody>\n",
       "    <tr>\n",
       "      <th>0</th>\n",
       "      <td>서울특별시  (1100000000)</td>\n",
       "      <td>9,414,093</td>\n",
       "      <td>9,414,093</td>\n",
       "      <td>528,601</td>\n",
       "      <td>742,606</td>\n",
       "      <td>1,376,043</td>\n",
       "      <td>1,426,858</td>\n",
       "      <td>1,433,451</td>\n",
       "      <td>1,490,305</td>\n",
       "      <td>1,312,500</td>\n",
       "      <td>725,930</td>\n",
       "      <td>332,435</td>\n",
       "      <td>43,869</td>\n",
       "      <td>1,495</td>\n",
       "    </tr>\n",
       "  </tbody>\n",
       "</table>\n",
       "</div>"
      ],
      "text/plain": [
       "                  행정구역 2023년06월_계_총인구수 2023년06월_계_연령구간인구수 2023년06월_계_0~9세  \\\n",
       "0  서울특별시  (1100000000)       9,414,093          9,414,093         528,601   \n",
       "\n",
       "  2023년06월_계_10~19세 2023년06월_계_20~29세 2023년06월_계_30~39세 2023년06월_계_40~49세  \\\n",
       "0           742,606         1,376,043         1,426,858         1,433,451   \n",
       "\n",
       "  2023년06월_계_50~59세 2023년06월_계_60~69세 2023년06월_계_70~79세 2023년06월_계_80~89세  \\\n",
       "0         1,490,305         1,312,500           725,930           332,435   \n",
       "\n",
       "  2023년06월_계_90~99세 2023년06월_계_100세 이상  \n",
       "0            43,869              1,495  "
      ]
     },
     "execution_count": 44,
     "metadata": {},
     "output_type": "execute_result"
    }
   ],
   "source": [
    "df = pd.read_csv(\"./data/202306_202306_연령별인구현황_월간.csv\",encoding=\"ms949\")\n",
    "df.head(1)"
   ]
  },
  {
   "cell_type": "code",
   "execution_count": 45,
   "metadata": {},
   "outputs": [
    {
     "name": "stdout",
     "output_type": "stream",
     "text": [
      "<class 'pandas.core.frame.DataFrame'>\n",
      "RangeIndex: 3877 entries, 0 to 3876\n",
      "Data columns (total 14 columns):\n",
      " #   Column              Non-Null Count  Dtype \n",
      "---  ------              --------------  ----- \n",
      " 0   행정구역                3877 non-null   object\n",
      " 1   2023년06월_계_총인구수     3877 non-null   object\n",
      " 2   2023년06월_계_연령구간인구수  3877 non-null   object\n",
      " 3   2023년06월_계_0~9세     3877 non-null   object\n",
      " 4   2023년06월_계_10~19세   3877 non-null   object\n",
      " 5   2023년06월_계_20~29세   3877 non-null   object\n",
      " 6   2023년06월_계_30~39세   3877 non-null   object\n",
      " 7   2023년06월_계_40~49세   3877 non-null   object\n",
      " 8   2023년06월_계_50~59세   3877 non-null   object\n",
      " 9   2023년06월_계_60~69세   3877 non-null   object\n",
      " 10  2023년06월_계_70~79세   3877 non-null   object\n",
      " 11  2023년06월_계_80~89세   3877 non-null   object\n",
      " 12  2023년06월_계_90~99세   3877 non-null   object\n",
      " 13  2023년06월_계_100세 이상  3877 non-null   object\n",
      "dtypes: object(14)\n",
      "memory usage: 424.2+ KB\n"
     ]
    }
   ],
   "source": [
    "df.info()"
   ]
  },
  {
   "cell_type": "code",
   "execution_count": 46,
   "metadata": {},
   "outputs": [
    {
     "data": {
      "text/html": [
       "<div>\n",
       "<style scoped>\n",
       "    .dataframe tbody tr th:only-of-type {\n",
       "        vertical-align: middle;\n",
       "    }\n",
       "\n",
       "    .dataframe tbody tr th {\n",
       "        vertical-align: top;\n",
       "    }\n",
       "\n",
       "    .dataframe thead th {\n",
       "        text-align: right;\n",
       "    }\n",
       "</style>\n",
       "<table border=\"1\" class=\"dataframe\">\n",
       "  <thead>\n",
       "    <tr style=\"text-align: right;\">\n",
       "      <th></th>\n",
       "      <th>행정구역</th>\n",
       "      <th>2023년06월_계_총인구수</th>\n",
       "      <th>2023년06월_계_연령구간인구수</th>\n",
       "      <th>2023년06월_계_0~9세</th>\n",
       "      <th>2023년06월_계_10~19세</th>\n",
       "      <th>2023년06월_계_20~29세</th>\n",
       "      <th>2023년06월_계_30~39세</th>\n",
       "      <th>2023년06월_계_40~49세</th>\n",
       "      <th>2023년06월_계_50~59세</th>\n",
       "      <th>2023년06월_계_60~69세</th>\n",
       "      <th>2023년06월_계_70~79세</th>\n",
       "      <th>2023년06월_계_80~89세</th>\n",
       "      <th>2023년06월_계_90~99세</th>\n",
       "      <th>2023년06월_계_100세 이상</th>\n",
       "    </tr>\n",
       "  </thead>\n",
       "  <tbody>\n",
       "    <tr>\n",
       "      <th>count</th>\n",
       "      <td>3877</td>\n",
       "      <td>3877</td>\n",
       "      <td>3877</td>\n",
       "      <td>3877</td>\n",
       "      <td>3877</td>\n",
       "      <td>3877</td>\n",
       "      <td>3877</td>\n",
       "      <td>3877</td>\n",
       "      <td>3877</td>\n",
       "      <td>3877</td>\n",
       "      <td>3877</td>\n",
       "      <td>3877</td>\n",
       "      <td>3877</td>\n",
       "      <td>3877</td>\n",
       "    </tr>\n",
       "    <tr>\n",
       "      <th>unique</th>\n",
       "      <td>3877</td>\n",
       "      <td>3615</td>\n",
       "      <td>3615</td>\n",
       "      <td>1968</td>\n",
       "      <td>2263</td>\n",
       "      <td>2473</td>\n",
       "      <td>2498</td>\n",
       "      <td>2627</td>\n",
       "      <td>2830</td>\n",
       "      <td>2751</td>\n",
       "      <td>2121</td>\n",
       "      <td>1426</td>\n",
       "      <td>520</td>\n",
       "      <td>104</td>\n",
       "    </tr>\n",
       "    <tr>\n",
       "      <th>top</th>\n",
       "      <td>서울특별시  (1100000000)</td>\n",
       "      <td>0</td>\n",
       "      <td>0</td>\n",
       "      <td>30</td>\n",
       "      <td>0</td>\n",
       "      <td>0</td>\n",
       "      <td>0</td>\n",
       "      <td>0</td>\n",
       "      <td>0</td>\n",
       "      <td>0</td>\n",
       "      <td>0</td>\n",
       "      <td>0</td>\n",
       "      <td>63</td>\n",
       "      <td>1</td>\n",
       "    </tr>\n",
       "    <tr>\n",
       "      <th>freq</th>\n",
       "      <td>1</td>\n",
       "      <td>17</td>\n",
       "      <td>17</td>\n",
       "      <td>23</td>\n",
       "      <td>18</td>\n",
       "      <td>18</td>\n",
       "      <td>17</td>\n",
       "      <td>17</td>\n",
       "      <td>17</td>\n",
       "      <td>17</td>\n",
       "      <td>17</td>\n",
       "      <td>17</td>\n",
       "      <td>49</td>\n",
       "      <td>831</td>\n",
       "    </tr>\n",
       "  </tbody>\n",
       "</table>\n",
       "</div>"
      ],
      "text/plain": [
       "                       행정구역 2023년06월_계_총인구수 2023년06월_계_연령구간인구수  \\\n",
       "count                  3877            3877               3877   \n",
       "unique                 3877            3615               3615   \n",
       "top     서울특별시  (1100000000)               0                  0   \n",
       "freq                      1              17                 17   \n",
       "\n",
       "       2023년06월_계_0~9세 2023년06월_계_10~19세 2023년06월_계_20~29세 2023년06월_계_30~39세  \\\n",
       "count             3877              3877              3877              3877   \n",
       "unique            1968              2263              2473              2498   \n",
       "top                 30                 0                 0                 0   \n",
       "freq                23                18                18                17   \n",
       "\n",
       "       2023년06월_계_40~49세 2023년06월_계_50~59세 2023년06월_계_60~69세  \\\n",
       "count               3877              3877              3877   \n",
       "unique              2627              2830              2751   \n",
       "top                    0                 0                 0   \n",
       "freq                  17                17                17   \n",
       "\n",
       "       2023년06월_계_70~79세 2023년06월_계_80~89세 2023년06월_계_90~99세  \\\n",
       "count               3877              3877              3877   \n",
       "unique              2121              1426               520   \n",
       "top                    0                 0                63   \n",
       "freq                  17                17                49   \n",
       "\n",
       "       2023년06월_계_100세 이상  \n",
       "count                3877  \n",
       "unique                104  \n",
       "top                     1  \n",
       "freq                  831  "
      ]
     },
     "execution_count": 46,
     "metadata": {},
     "output_type": "execute_result"
    }
   ],
   "source": [
    "# 기술요약통계\n",
    "df.describe(include=object)"
   ]
  },
  {
   "cell_type": "code",
   "execution_count": 47,
   "metadata": {},
   "outputs": [
    {
     "data": {
      "text/plain": [
       "Index(['행정구역', '총인구수', '연령구간인구수', '0~9세', '10~19세', '20~29세', '30~39세',\n",
       "       '40~49세', '50~59세', '60~69세', '70~79세', '80~89세', '90~99세', '100세 이상'],\n",
       "      dtype='object')"
      ]
     },
     "execution_count": 47,
     "metadata": {},
     "output_type": "execute_result"
    }
   ],
   "source": [
    "# 2023년06월_계_총인구수 => 총인구수\n",
    "# 모든 컬럼명에 \"2023년06월_계_\" 제거\n",
    "df.columns = df.columns.str.replace(\"2023년06월_계_\",\"\")\n",
    "df.columns"
   ]
  },
  {
   "cell_type": "code",
   "execution_count": 48,
   "metadata": {},
   "outputs": [],
   "source": [
    "# 컬럼 제거 - 총인구수, 연령구간인구수\n",
    "# columns=[]로 정의하면 axis를 안 써줘도 된다.\n",
    "df.drop([\"총인구수\",\"연령구간인구수\"], axis=1, inplace=True)"
   ]
  },
  {
   "cell_type": "code",
   "execution_count": 49,
   "metadata": {},
   "outputs": [
    {
     "data": {
      "text/html": [
       "<div>\n",
       "<style scoped>\n",
       "    .dataframe tbody tr th:only-of-type {\n",
       "        vertical-align: middle;\n",
       "    }\n",
       "\n",
       "    .dataframe tbody tr th {\n",
       "        vertical-align: top;\n",
       "    }\n",
       "\n",
       "    .dataframe thead th {\n",
       "        text-align: right;\n",
       "    }\n",
       "</style>\n",
       "<table border=\"1\" class=\"dataframe\">\n",
       "  <thead>\n",
       "    <tr style=\"text-align: right;\">\n",
       "      <th></th>\n",
       "      <th>행정구역</th>\n",
       "      <th>0~9세</th>\n",
       "      <th>10~19세</th>\n",
       "      <th>20~29세</th>\n",
       "      <th>30~39세</th>\n",
       "      <th>40~49세</th>\n",
       "      <th>50~59세</th>\n",
       "      <th>60~69세</th>\n",
       "      <th>70~79세</th>\n",
       "      <th>80~89세</th>\n",
       "      <th>90~99세</th>\n",
       "      <th>100세 이상</th>\n",
       "    </tr>\n",
       "  </thead>\n",
       "  <tbody>\n",
       "    <tr>\n",
       "      <th>0</th>\n",
       "      <td>서울특별시  (1100000000)</td>\n",
       "      <td>528,601</td>\n",
       "      <td>742,606</td>\n",
       "      <td>1,376,043</td>\n",
       "      <td>1,426,858</td>\n",
       "      <td>1,433,451</td>\n",
       "      <td>1,490,305</td>\n",
       "      <td>1,312,500</td>\n",
       "      <td>725,930</td>\n",
       "      <td>332,435</td>\n",
       "      <td>43,869</td>\n",
       "      <td>1,495</td>\n",
       "    </tr>\n",
       "    <tr>\n",
       "      <th>1</th>\n",
       "      <td>서울특별시 종로구 (1111000000)</td>\n",
       "      <td>6,110</td>\n",
       "      <td>10,009</td>\n",
       "      <td>21,836</td>\n",
       "      <td>19,367</td>\n",
       "      <td>19,459</td>\n",
       "      <td>24,025</td>\n",
       "      <td>20,556</td>\n",
       "      <td>11,446</td>\n",
       "      <td>6,619</td>\n",
       "      <td>934</td>\n",
       "      <td>36</td>\n",
       "    </tr>\n",
       "  </tbody>\n",
       "</table>\n",
       "</div>"
      ],
      "text/plain": [
       "                     행정구역     0~9세   10~19세     20~29세     30~39세     40~49세  \\\n",
       "0     서울특별시  (1100000000)  528,601  742,606  1,376,043  1,426,858  1,433,451   \n",
       "1  서울특별시 종로구 (1111000000)    6,110   10,009     21,836     19,367     19,459   \n",
       "\n",
       "      50~59세     60~69세   70~79세   80~89세  90~99세 100세 이상  \n",
       "0  1,490,305  1,312,500  725,930  332,435  43,869   1,495  \n",
       "1     24,025     20,556   11,446    6,619     934      36  "
      ]
     },
     "execution_count": 49,
     "metadata": {},
     "output_type": "execute_result"
    }
   ],
   "source": [
    "df.head(2)"
   ]
  },
  {
   "cell_type": "markdown",
   "metadata": {},
   "source": [
    "#### 특정 동 데이터 탐색"
   ]
  },
  {
   "cell_type": "code",
   "execution_count": 50,
   "metadata": {},
   "outputs": [
    {
     "data": {
      "text/html": [
       "<div>\n",
       "<style scoped>\n",
       "    .dataframe tbody tr th:only-of-type {\n",
       "        vertical-align: middle;\n",
       "    }\n",
       "\n",
       "    .dataframe tbody tr th {\n",
       "        vertical-align: top;\n",
       "    }\n",
       "\n",
       "    .dataframe thead th {\n",
       "        text-align: right;\n",
       "    }\n",
       "</style>\n",
       "<table border=\"1\" class=\"dataframe\">\n",
       "  <thead>\n",
       "    <tr style=\"text-align: right;\">\n",
       "      <th></th>\n",
       "      <th>행정구역</th>\n",
       "      <th>0~9세</th>\n",
       "      <th>10~19세</th>\n",
       "      <th>20~29세</th>\n",
       "      <th>30~39세</th>\n",
       "      <th>40~49세</th>\n",
       "      <th>50~59세</th>\n",
       "      <th>60~69세</th>\n",
       "      <th>70~79세</th>\n",
       "      <th>80~89세</th>\n",
       "      <th>90~99세</th>\n",
       "      <th>100세 이상</th>\n",
       "    </tr>\n",
       "  </thead>\n",
       "  <tbody>\n",
       "    <tr>\n",
       "      <th>6</th>\n",
       "      <td>서울특별시 종로구 평창동(1111056000)</td>\n",
       "      <td>1,037</td>\n",
       "      <td>1,525</td>\n",
       "      <td>2,103</td>\n",
       "      <td>2,080</td>\n",
       "      <td>2,506</td>\n",
       "      <td>3,159</td>\n",
       "      <td>2,748</td>\n",
       "      <td>1,360</td>\n",
       "      <td>815</td>\n",
       "      <td>133</td>\n",
       "      <td>10</td>\n",
       "    </tr>\n",
       "  </tbody>\n",
       "</table>\n",
       "</div>"
      ],
      "text/plain": [
       "                        행정구역   0~9세 10~19세 20~29세 30~39세 40~49세 50~59세 60~69세  \\\n",
       "6  서울특별시 종로구 평창동(1111056000)  1,037  1,525  2,103  2,080  2,506  3,159  2,748   \n",
       "\n",
       "  70~79세 80~89세 90~99세 100세 이상  \n",
       "6  1,360    815    133      10  "
      ]
     },
     "execution_count": 50,
     "metadata": {},
     "output_type": "execute_result"
    }
   ],
   "source": [
    "df[df[\"행정구역\"] == \"서울특별시 종로구 평창동(1111056000)\"]"
   ]
  },
  {
   "cell_type": "code",
   "execution_count": 51,
   "metadata": {},
   "outputs": [
    {
     "data": {
      "text/plain": [
       "행정구역       서울특별시 종로구 평창동(1111056000)\n",
       "0~9세                           1,037\n",
       "10~19세                         1,525\n",
       "20~29세                         2,103\n",
       "30~39세                         2,080\n",
       "40~49세                         2,506\n",
       "50~59세                         3,159\n",
       "60~69세                         2,748\n",
       "70~79세                         1,360\n",
       "80~89세                           815\n",
       "90~99세                           133\n",
       "100세 이상                           10\n",
       "Name: 6, dtype: object"
      ]
     },
     "execution_count": 51,
     "metadata": {},
     "output_type": "execute_result"
    }
   ],
   "source": [
    "df.loc[6]"
   ]
  },
  {
   "cell_type": "code",
   "execution_count": 52,
   "metadata": {},
   "outputs": [
    {
     "data": {
      "text/html": [
       "<div>\n",
       "<style scoped>\n",
       "    .dataframe tbody tr th:only-of-type {\n",
       "        vertical-align: middle;\n",
       "    }\n",
       "\n",
       "    .dataframe tbody tr th {\n",
       "        vertical-align: top;\n",
       "    }\n",
       "\n",
       "    .dataframe thead th {\n",
       "        text-align: right;\n",
       "    }\n",
       "</style>\n",
       "<table border=\"1\" class=\"dataframe\">\n",
       "  <thead>\n",
       "    <tr style=\"text-align: right;\">\n",
       "      <th></th>\n",
       "      <th>행정구역</th>\n",
       "      <th>0~9세</th>\n",
       "      <th>10~19세</th>\n",
       "      <th>20~29세</th>\n",
       "      <th>30~39세</th>\n",
       "      <th>40~49세</th>\n",
       "      <th>50~59세</th>\n",
       "      <th>60~69세</th>\n",
       "      <th>70~79세</th>\n",
       "      <th>80~89세</th>\n",
       "      <th>90~99세</th>\n",
       "      <th>100세 이상</th>\n",
       "    </tr>\n",
       "  </thead>\n",
       "  <tbody>\n",
       "    <tr>\n",
       "      <th>6</th>\n",
       "      <td>서울특별시 종로구 평창동(1111056000)</td>\n",
       "      <td>1,037</td>\n",
       "      <td>1,525</td>\n",
       "      <td>2,103</td>\n",
       "      <td>2,080</td>\n",
       "      <td>2,506</td>\n",
       "      <td>3,159</td>\n",
       "      <td>2,748</td>\n",
       "      <td>1,360</td>\n",
       "      <td>815</td>\n",
       "      <td>133</td>\n",
       "      <td>10</td>\n",
       "    </tr>\n",
       "  </tbody>\n",
       "</table>\n",
       "</div>"
      ],
      "text/plain": [
       "                        행정구역   0~9세 10~19세 20~29세 30~39세 40~49세 50~59세 60~69세  \\\n",
       "6  서울특별시 종로구 평창동(1111056000)  1,037  1,525  2,103  2,080  2,506  3,159  2,748   \n",
       "\n",
       "  70~79세 80~89세 90~99세 100세 이상  \n",
       "6  1,360    815    133      10  "
      ]
     },
     "execution_count": 52,
     "metadata": {},
     "output_type": "execute_result"
    }
   ],
   "source": [
    "# contains()\n",
    "pyeongchang = df[df[\"행정구역\"].str.contains(\"평창동\")]\n",
    "pyeongchang"
   ]
  },
  {
   "cell_type": "code",
   "execution_count": 53,
   "metadata": {},
   "outputs": [],
   "source": [
    "pyeongchang.drop(columns=[\"행정구역\"], inplace=True)"
   ]
  },
  {
   "cell_type": "code",
   "execution_count": 57,
   "metadata": {},
   "outputs": [
    {
     "data": {
      "text/html": [
       "<div>\n",
       "<style scoped>\n",
       "    .dataframe tbody tr th:only-of-type {\n",
       "        vertical-align: middle;\n",
       "    }\n",
       "\n",
       "    .dataframe tbody tr th {\n",
       "        vertical-align: top;\n",
       "    }\n",
       "\n",
       "    .dataframe thead th {\n",
       "        text-align: right;\n",
       "    }\n",
       "</style>\n",
       "<table border=\"1\" class=\"dataframe\">\n",
       "  <thead>\n",
       "    <tr style=\"text-align: right;\">\n",
       "      <th></th>\n",
       "      <th>6</th>\n",
       "    </tr>\n",
       "  </thead>\n",
       "  <tbody>\n",
       "    <tr>\n",
       "      <th>0~9세</th>\n",
       "      <td>1,037</td>\n",
       "    </tr>\n",
       "    <tr>\n",
       "      <th>10~19세</th>\n",
       "      <td>1,525</td>\n",
       "    </tr>\n",
       "    <tr>\n",
       "      <th>20~29세</th>\n",
       "      <td>2,103</td>\n",
       "    </tr>\n",
       "    <tr>\n",
       "      <th>30~39세</th>\n",
       "      <td>2,080</td>\n",
       "    </tr>\n",
       "    <tr>\n",
       "      <th>40~49세</th>\n",
       "      <td>2,506</td>\n",
       "    </tr>\n",
       "    <tr>\n",
       "      <th>50~59세</th>\n",
       "      <td>3,159</td>\n",
       "    </tr>\n",
       "    <tr>\n",
       "      <th>60~69세</th>\n",
       "      <td>2,748</td>\n",
       "    </tr>\n",
       "    <tr>\n",
       "      <th>70~79세</th>\n",
       "      <td>1,360</td>\n",
       "    </tr>\n",
       "    <tr>\n",
       "      <th>80~89세</th>\n",
       "      <td>815</td>\n",
       "    </tr>\n",
       "    <tr>\n",
       "      <th>90~99세</th>\n",
       "      <td>133</td>\n",
       "    </tr>\n",
       "    <tr>\n",
       "      <th>100세 이상</th>\n",
       "      <td>10</td>\n",
       "    </tr>\n",
       "  </tbody>\n",
       "</table>\n",
       "</div>"
      ],
      "text/plain": [
       "             6\n",
       "0~9세     1,037\n",
       "10~19세   1,525\n",
       "20~29세   2,103\n",
       "30~39세   2,080\n",
       "40~49세   2,506\n",
       "50~59세   3,159\n",
       "60~69세   2,748\n",
       "70~79세   1,360\n",
       "80~89세     815\n",
       "90~99세     133\n",
       "100세 이상     10"
      ]
     },
     "execution_count": 57,
     "metadata": {},
     "output_type": "execute_result"
    }
   ],
   "source": [
    "pyeongchang = pyeongchang.T\n",
    "pyeongchang"
   ]
  },
  {
   "cell_type": "code",
   "execution_count": 60,
   "metadata": {},
   "outputs": [
    {
     "data": {
      "text/html": [
       "<div>\n",
       "<style scoped>\n",
       "    .dataframe tbody tr th:only-of-type {\n",
       "        vertical-align: middle;\n",
       "    }\n",
       "\n",
       "    .dataframe tbody tr th {\n",
       "        vertical-align: top;\n",
       "    }\n",
       "\n",
       "    .dataframe thead th {\n",
       "        text-align: right;\n",
       "    }\n",
       "</style>\n",
       "<table border=\"1\" class=\"dataframe\">\n",
       "  <thead>\n",
       "    <tr style=\"text-align: right;\">\n",
       "      <th></th>\n",
       "      <th>인구수</th>\n",
       "    </tr>\n",
       "  </thead>\n",
       "  <tbody>\n",
       "    <tr>\n",
       "      <th>0~9세</th>\n",
       "      <td>1,037</td>\n",
       "    </tr>\n",
       "    <tr>\n",
       "      <th>10~19세</th>\n",
       "      <td>1,525</td>\n",
       "    </tr>\n",
       "    <tr>\n",
       "      <th>20~29세</th>\n",
       "      <td>2,103</td>\n",
       "    </tr>\n",
       "    <tr>\n",
       "      <th>30~39세</th>\n",
       "      <td>2,080</td>\n",
       "    </tr>\n",
       "    <tr>\n",
       "      <th>40~49세</th>\n",
       "      <td>2,506</td>\n",
       "    </tr>\n",
       "    <tr>\n",
       "      <th>50~59세</th>\n",
       "      <td>3,159</td>\n",
       "    </tr>\n",
       "    <tr>\n",
       "      <th>60~69세</th>\n",
       "      <td>2,748</td>\n",
       "    </tr>\n",
       "    <tr>\n",
       "      <th>70~79세</th>\n",
       "      <td>1,360</td>\n",
       "    </tr>\n",
       "    <tr>\n",
       "      <th>80~89세</th>\n",
       "      <td>815</td>\n",
       "    </tr>\n",
       "    <tr>\n",
       "      <th>90~99세</th>\n",
       "      <td>133</td>\n",
       "    </tr>\n",
       "    <tr>\n",
       "      <th>100세 이상</th>\n",
       "      <td>10</td>\n",
       "    </tr>\n",
       "  </tbody>\n",
       "</table>\n",
       "</div>"
      ],
      "text/plain": [
       "           인구수\n",
       "0~9세     1,037\n",
       "10~19세   1,525\n",
       "20~29세   2,103\n",
       "30~39세   2,080\n",
       "40~49세   2,506\n",
       "50~59세   3,159\n",
       "60~69세   2,748\n",
       "70~79세   1,360\n",
       "80~89세     815\n",
       "90~99세     133\n",
       "100세 이상     10"
      ]
     },
     "execution_count": 60,
     "metadata": {},
     "output_type": "execute_result"
    }
   ],
   "source": [
    "pyeongchang.columns = [\"인구수\"]\n",
    "pyeongchang"
   ]
  },
  {
   "cell_type": "code",
   "execution_count": 66,
   "metadata": {},
   "outputs": [],
   "source": [
    "pyeongchang = pyeongchang.apply(lambda x:x.str.replace(\",\",\"\").astype(\"int64\"))"
   ]
  },
  {
   "cell_type": "code",
   "execution_count": 67,
   "metadata": {},
   "outputs": [
    {
     "name": "stdout",
     "output_type": "stream",
     "text": [
      "<class 'pandas.core.frame.DataFrame'>\n",
      "Index: 11 entries, 0~9세 to 100세 이상\n",
      "Data columns (total 1 columns):\n",
      " #   Column  Non-Null Count  Dtype\n",
      "---  ------  --------------  -----\n",
      " 0   인구수     11 non-null     int64\n",
      "dtypes: int64(1)\n",
      "memory usage: 476.0+ bytes\n"
     ]
    }
   ],
   "source": [
    "pyeongchang.info()"
   ]
  },
  {
   "cell_type": "code",
   "execution_count": 69,
   "metadata": {},
   "outputs": [
    {
     "data": {
      "text/plain": [
       "[<matplotlib.lines.Line2D at 0x1f4440e2550>]"
      ]
     },
     "execution_count": 69,
     "metadata": {},
     "output_type": "execute_result"
    },
    {
     "data": {
      "image/png": "[encoded data removed]",
      "text/plain": [
       "<Figure size 900x600 with 1 Axes>"
      ]
     },
     "metadata": {},
     "output_type": "display_data"
    }
   ],
   "source": [
    "# 평창동 선차트\n",
    "# 평창동 인구수\n",
    "plt.figure(figsize=(9,6))\n",
    "plt.title(\"평창동 인구수\")\n",
    "plt.ylabel(\"명\",rotation=0,labelpad=10)\n",
    "plt.plot(pyeongchang.index,pyeongchang[\"인구수\"])"
   ]
  },
  {
   "cell_type": "code",
   "execution_count": 71,
   "metadata": {},
   "outputs": [
    {
     "data": {
      "text/plain": [
       "<BarContainer object of 11 artists>"
      ]
     },
     "execution_count": 71,
     "metadata": {},
     "output_type": "execute_result"
    },
    {
     "data": {
      "image/png": "[encoded data removed]",
      "text/plain": [
       "<Figure size 900x600 with 1 Axes>"
      ]
     },
     "metadata": {},
     "output_type": "display_data"
    }
   ],
   "source": [
    "plt.figure(figsize=(9,6))\n",
    "plt.title(\"평창동 인구수\")\n",
    "plt.ylabel(\"명\",rotation=0,labelpad=10)\n",
    "plt.barh(pyeongchang.index,pyeongchang[\"인구수\"], color=\"lightblue\")"
   ]
  },
  {
   "cell_type": "code",
   "execution_count": 86,
   "metadata": {},
   "outputs": [],
   "source": [
    "dong = input(\"인구구조가 알고 싶은 지역의 이름(읍면동 단위)를 입력해주세요.\")"
   ]
  },
  {
   "cell_type": "code",
   "execution_count": null,
   "metadata": {},
   "outputs": [],
   "source": []
  },
  {
   "cell_type": "code",
   "execution_count": 96,
   "metadata": {},
   "outputs": [
    {
     "data": {
      "text/plain": [
       "<BarContainer object of 11 artists>"
      ]
     },
     "execution_count": 96,
     "metadata": {},
     "output_type": "execute_result"
    },
    {
     "data": {
      "image/png": "[encoded data removed]",
      "text/plain": [
       "<Figure size 900x600 with 1 Axes>"
      ]
     },
     "metadata": {},
     "output_type": "display_data"
    }
   ],
   "source": [
    "# contains()\n",
    "result = df[df[\"행정구역\"].str.contains(dong)]\n",
    "result.drop(columns=[\"행정구역\"], inplace=True)\n",
    "result = result.apply(lambda x:x.str.replace(\",\",\"\").astype(\"int64\"))\n",
    "\n",
    "# 행열바꿈\n",
    "result = result.T\n",
    "\n",
    "# 컬럼명 변경\n",
    "result.columns = [\"인구수\"]\n",
    "\n",
    "# 차트 작성\n",
    "plt.figure(figsize=(9,6))\n",
    "plt.title(dong+\" 인구수\")\n",
    "plt.ylabel(\"명\",rotation=0,labelpad=10)\n",
    "plt.bar(result.index,result[\"인구수\"], color=\"lavender\")"
   ]
  }
 ],
 "metadata": {
  "kernelspec": {
   "display_name": "pythonsource",
   "language": "python",
   "name": "python3"
  },
  "language_info": {
   "codemirror_mode": {
    "name": "ipython",
    "version": 3
   },
   "file_extension": ".py",
   "mimetype": "text/x-python",
   "name": "python",
   "nbconvert_exporter": "python",
   "pygments_lexer": "ipython3",
   "version": "3.11.4"
  },
  "orig_nbformat": 4
 },
 "nbformat": 4,
 "nbformat_minor": 2
}
